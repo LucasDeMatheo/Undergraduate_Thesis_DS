{
 "cells": [
  {
   "cell_type": "markdown",
   "id": "4f951d2b",
   "metadata": {},
   "source": [
    "# General Information\n",
    ">\n",
    ">Author: Lucas Lobianco De Matheo\n",
    ">\n",
    ">Title: **Exploratory Data Analysis - DataSUS - COVID-19 - Brazil 2020**\n",
    ">\n",
    ">This dataset was obtained from the SUS website - Brazilian Unified Health System. These are SUS records on COVI-19 in  \n",
    "> Brazilian's territory hospitals.\n",
    ">\n",
    ">Extension: .csv\n",
    ">\n",
    ">Source: https://opendatasus.saude.gov.br/dataset/srag-2020  \n",
    "> the file in the link above was dowloaded on 2023-03-20.  \n",
    "> The data obtained is in .csv format and updates can be obtained from the website:  \n",
    "> - https://covid.saude.gov.br/  \n",
    "> - https://dados.gov.br/dataset/notificacao_covid\n",
    ">\n",
    ">Date: 2023-04-04\n",
    ">\n",
    "> **Main Skills of this project:** \n",
    "> - **Data Preparation**\n",
    "> - **Data Cleansing**  \n",
    "> - **Data Wrangling**  \n",
    "> - APIs for Geolocation\n",
    "> - Data Visualization"
   ]
  },
  {
   "cell_type": "markdown",
   "id": "4235b866",
   "metadata": {},
   "source": [
    "# Objective: \n",
    "> Observe data patterns and behavior,  \n",
    "> search for other anomalies, and  \n",
    "> go deep in cleaning"
   ]
  },
  {
   "cell_type": "markdown",
   "id": "f7c419a5",
   "metadata": {},
   "source": [
    "# Importing main Librarys"
   ]
  },
  {
   "cell_type": "code",
   "execution_count": 1,
   "id": "9e59b904",
   "metadata": {},
   "outputs": [],
   "source": [
    "import pandas as pd\n",
    "import numpy as np\n",
    "import matplotlib.pyplot as plt\n",
    "import seaborn as sns\n",
    "import os\n",
    "import plotly.express as px\n",
    "\n",
    "import datetime\n",
    "from datetime import datetime"
   ]
  },
  {
   "cell_type": "markdown",
   "id": "569b25e8",
   "metadata": {},
   "source": [
    "# Importing Data\n",
    "- The folowing csv file can be found on my github page: https://github.com/LucasDeMatheo/COVID_19_DATASUS"
   ]
  },
  {
   "cell_type": "code",
   "execution_count": 2,
   "id": "d2fda410",
   "metadata": {},
   "outputs": [],
   "source": [
    "#os.listdir()\n",
    "os.chdir(\"preprocessed_data\")"
   ]
  },
  {
   "cell_type": "code",
   "execution_count": 3,
   "id": "b848c0e3",
   "metadata": {},
   "outputs": [
    {
     "data": {
      "text/plain": [
       "(1200795, 54)"
      ]
     },
     "execution_count": 3,
     "metadata": {},
     "output_type": "execute_result"
    }
   ],
   "source": [
    "df = pd.read_csv(r'DataSUS_PreProcessed_2.csv', sep=';')\n",
    "n_tuples = df.shape[0] \n",
    "df.shape"
   ]
  },
  {
   "cell_type": "markdown",
   "id": "c9007ef3",
   "metadata": {},
   "source": [
    "## Selecting Date columns to trasform types"
   ]
  },
  {
   "cell_type": "code",
   "execution_count": 4,
   "id": "3a1e5fe6",
   "metadata": {},
   "outputs": [
    {
     "name": "stdout",
     "output_type": "stream",
     "text": [
      "Notification_Date: ok\n",
      "First_Symptom_Date: ok\n",
      "Birth_Date: ok\n",
      "Admission_Date: ok\n",
      "Intubation_Date: ok\n",
      "ICU_Discharge_Date: ok\n",
      "Sample_Date: ok\n",
      "Evolution_Date: ok\n",
      "Hospital_Discharge_Date: ok\n",
      "PCR_Date: ok\n"
     ]
    }
   ],
   "source": [
    "selected_columns = ['Notification_Date', 'First_Symptom_Date', 'Birth_Date', 'Admission_Date', 'Intubation_Date',\n",
    "                    'ICU_Discharge_Date', 'Sample_Date', 'Evolution_Date', 'Hospital_Discharge_Date', 'PCR_Date']\n",
    "\n",
    "for target in selected_columns:\n",
    "    df[target] = pd.to_datetime(df[target], format = '%Y/%m/%d')\n",
    "    print(f'{target}: ok')"
   ]
  },
  {
   "cell_type": "markdown",
   "id": "8e6571ad",
   "metadata": {},
   "source": [
    "## A firs look at the data and there types"
   ]
  },
  {
   "cell_type": "code",
   "execution_count": 5,
   "id": "31753a79",
   "metadata": {},
   "outputs": [
    {
     "name": "stdout",
     "output_type": "stream",
     "text": [
      "<class 'pandas.core.frame.DataFrame'>\n",
      "RangeIndex: 1200795 entries, 0 to 1200794\n",
      "Data columns (total 54 columns):\n",
      " #   Column                   Non-Null Count    Dtype         \n",
      "---  ------                   --------------    -----         \n",
      " 0   Notification_Date        1200795 non-null  datetime64[ns]\n",
      " 1   First_Symptom_Date       1200795 non-null  datetime64[ns]\n",
      " 2   State                    1200795 non-null  object        \n",
      " 3   County_ID                1200795 non-null  object        \n",
      " 4   Health_Unit              1200795 non-null  object        \n",
      " 5   Gender                   1200795 non-null  object        \n",
      " 6   Birth_Date               1198667 non-null  datetime64[ns]\n",
      " 7   Pregnancy                1200795 non-null  object        \n",
      " 8   Race                     1200795 non-null  object        \n",
      " 9   Schooling                1200795 non-null  object        \n",
      " 10  Poultry_Swine            1200795 non-null  object        \n",
      " 11  Fever                    1200795 non-null  object        \n",
      " 12  Cough                    1200795 non-null  object        \n",
      " 13  Sore_Throat              1200795 non-null  object        \n",
      " 14  Dyspnea                  1200795 non-null  object        \n",
      " 15  Respiratory_Discomfort   1200795 non-null  object        \n",
      " 16  Saturation               1200795 non-null  object        \n",
      " 17  Diarrhea                 1200795 non-null  object        \n",
      " 18  Vomiting                 1200795 non-null  object        \n",
      " 19  Other_Symptoms           1200795 non-null  object        \n",
      " 20  Postpartum               1200795 non-null  object        \n",
      " 21  Risk_Factors             1200795 non-null  int64         \n",
      " 22  Heart_Disease            1200795 non-null  object        \n",
      " 23  Hematology               1200795 non-null  object        \n",
      " 24  Down_Syndrome            1200795 non-null  object        \n",
      " 25  Liver_Disease            1200795 non-null  object        \n",
      " 26  Asthma                   1200795 non-null  object        \n",
      " 27  Diabetes                 1200795 non-null  object        \n",
      " 28  Neuropathies             1200795 non-null  object        \n",
      " 29  Lung_Disease             1200795 non-null  object        \n",
      " 30  Immunosuppression        1200795 non-null  object        \n",
      " 31  Kidney_Disease           1200795 non-null  object        \n",
      " 32  Obesity                  1200795 non-null  object        \n",
      " 33  Other_Morbidities        1200795 non-null  object        \n",
      " 34  Vaccine                  1200795 non-null  object        \n",
      " 35  Antiviral                1200795 non-null  object        \n",
      " 36  Antiviral_Type           1200795 non-null  object        \n",
      " 37  Hospitalized             1200795 non-null  object        \n",
      " 38  Admission_Date           1111147 non-null  datetime64[ns]\n",
      " 39  ICU                      1200795 non-null  object        \n",
      " 40  Intubation_Date          342001 non-null   datetime64[ns]\n",
      " 41  ICU_Discharge_Date       194863 non-null   datetime64[ns]\n",
      " 42  Ventilatory_Support      1200795 non-null  object        \n",
      " 43  X_Ray_Result             1200795 non-null  object        \n",
      " 44  X_Ray_Date               353133 non-null   object        \n",
      " 45  Sample                   1200795 non-null  object        \n",
      " 46  Sample_Date              1117608 non-null  datetime64[ns]\n",
      " 47  Sample_Type              1200795 non-null  object        \n",
      " 48  PCR_Result               1200795 non-null  object        \n",
      " 49  PCR_Date                 967601 non-null   datetime64[ns]\n",
      " 50  Criterion                1200795 non-null  object        \n",
      " 51  Evolution                1200795 non-null  object        \n",
      " 52  Evolution_Date           1042269 non-null  datetime64[ns]\n",
      " 53  Hospital_Discharge_Date  1121460 non-null  datetime64[ns]\n",
      "dtypes: datetime64[ns](10), int64(1), object(43)\n",
      "memory usage: 494.7+ MB\n"
     ]
    }
   ],
   "source": [
    "df.info()"
   ]
  },
  {
   "cell_type": "markdown",
   "id": "15b77fa9",
   "metadata": {},
   "source": [
    "> **First considerations:**  \n",
    ">\n",
    "> Notification_Date | First_Symptom_Date | Birth_Date | Admission_Date | Intubation_Date' | 'ICU_Discharge_Date' |   Sample_Date | PCR_Date | Evolution_Date |  Hospital_Discharge_Date  \n",
    "**Are all date types and consequently time parameters**   \n",
    ">\n",
    "> State | County_ID | Health_Unit   \n",
    "**Are geolocation parameters**\n",
    ">\n",
    "> Gender | Birth_Date (AGE) | Race | Schooling  \n",
    "**Are Sociodemographic parameters**  \n",
    ">\n",
    "> Fever | Cough | Sore_Throat | Dyspnea | Respiratory_Discomfort | Saturation | Diarrhea | Vomiting | Other_Symptoms  \n",
    "**Are Symptoms parameters**\n",
    ">\n",
    "> Pregnancy | Poultry_Swine | Postpartum | Risk_Factors | Heart_Disease | Hematology | Down_Syndrome | Liver_Disease | Asthma | Diabetes | Neuropathies | Lung_Disease | Immunosuppression | Kidney_Disease | Obesity | Other_Morbidities  \n",
    "**Are Risk Factors parameters**  \n",
    ">\n",
    "> Vaccine | Antiviral | Antiviral_Type  \n",
    "**Are associated conditions parameters**  \n",
    ">\n",
    "> ICU | Intubation_Date | ICU_Discharge_Date | Ventilatory_Support | **Evolution** | Evolution_Date | Hospital_Discharge_Date | Hospitalized    \n",
    "**Are evolution related parameters**  \n",
    ">\n",
    "> X_Ray_Result | X_Ray_Date | Sample | Sample_Date | Sample_Type | Criterion | **PCR_Result** | PCR_Date  \n",
    "**Are Testing and Diagnostic related parameters**  \n",
    "*OBS: The time between PCR_date and Fist symptoms date must be investigated  \n",
    ">\n",
    "> **Outcome Attributes**: PCR_Result | Evolution  \n",
    "\n",
    "\n"
   ]
  },
  {
   "cell_type": "markdown",
   "id": "910acfd5",
   "metadata": {},
   "source": [
    "**Primeiras considerações:**\n",
    "\n",
    ">Data de Notificação | Data do Primeiro Sintoma | Data de Nascimento | Data de Admissão | Data de Intubação | Data de Alta da UTI | Data da Amostra | Data do PCR | Data da Evolução | Data de Alta Hospitalar  \n",
    "**São todos tipos de dados de data e, consequentemente, parâmetros temporais.**\n",
    "\n",
    ">Estado | ID do Município | Unidade de Saúde  \n",
    "**São parâmetros de geolocalização.**\n",
    "\n",
    ">Gênero | Data de Nascimento (IDADE) | Raça | Escolaridade  \n",
    "**São parâmetros sociodemográficos.**\n",
    "\n",
    ">Febre | Tosse | Dor de Garganta | Dispneia | Desconforto Respiratório | Saturação | Diarreia | Vômito | Outros Sintomas  \n",
    "**São parâmetros de sintomas.**  \n",
    "\n",
    ">Gravidez | Contato com Aves/Suínos | Período Pós-parto | Fatores de Risco | Doença Cardíaca | Hematologia | Síndrome de Down | Doença Hepática | Asma | Diabetes | Neuropatias | Doença Pulmonar | Imunossupressão | Doença Renal | Obesidade | Outras Comorbidades  \n",
    "**São parâmetros de fatores de risco.**  \n",
    "\n",
    ">Vacina | Antiviral | Tipo de Antiviral  \n",
    "**São parâmetros relacionados a condições associadas de profilaxia.**  \n",
    "\n",
    ">UTI | Data de Intubação | Data de Alta da UTI | Suporte Ventilatório | Evolução | Data da Evolução | Data de Alta Hospitalar | Hospitalizado  \n",
    "**São parâmetros relacionados à evolução do quadro clínico.**  \n",
    "\n",
    ">Resultado de Raio-X | Data do Raio-X | Amostra | Data da Amostra | Tipo de Amostra | Critério | Resultado do PCR | Data do PCR  \n",
    "**São parâmetros relacionados a testes e diagnósticos.**  \n",
    "***OBS: O intervalo entre a data do PCR e a data do primeiro sintoma deve ser investigado.***  \n",
    "\n",
    ">**Atributos de Desfecho**: Resultado do PCR | Evolução."
   ]
  },
  {
   "cell_type": "markdown",
   "id": "52a0f9cc",
   "metadata": {},
   "source": [
    "# Filtering the useful lines \n",
    "> It is understood that it is not worth to enter data that do not form a diagnosis or an outcome,  \n",
    "as well as it is not worth to have data from patients who did not undergo the RT-PCR test."
   ]
  },
  {
   "cell_type": "code",
   "execution_count": 6,
   "id": "e0f877a9",
   "metadata": {},
   "outputs": [],
   "source": [
    "var1 = 'Detectable'\n",
    "var2 = 'Not Detectable'\n",
    "df = df.query('PCR_Result == @var1 or PCR_Result == @var2')\n",
    "\n",
    "var1 = 'Cure'\n",
    "var2 = 'Death'\n",
    "df = df.query('Evolution == @var1 or Evolution == @var2')\n",
    "\n",
    "var1 = 'Naso-oropharynx secretion'\n",
    "var2 = 'Brocho-alveolar lavage'\n",
    "var3 = 'CSF - cerebrospinal fluid'\n",
    "df = df.query('Sample_Type == @var1 or Sample_Type == @var2 or Sample_Type == @var3')"
   ]
  },
  {
   "cell_type": "code",
   "execution_count": 7,
   "id": "1a06844c",
   "metadata": {},
   "outputs": [
    {
     "name": "stdout",
     "output_type": "stream",
     "text": [
      "826900\n",
      "373895 rejected\n"
     ]
    }
   ],
   "source": [
    "n_tuples_2 = df.shape[0]\n",
    "print(n_tuples_2)\n",
    "print(f'{n_tuples - n_tuples_2} rejected')"
   ]
  },
  {
   "cell_type": "markdown",
   "id": "306191dd",
   "metadata": {},
   "source": [
    "> 373.895 lines rejected  \n",
    "> 826.900 lines left  \n",
    "> **Unfortunately this is a national public data standard, lots of missing or even wrong content**"
   ]
  },
  {
   "cell_type": "markdown",
   "id": "6b4937e8",
   "metadata": {},
   "source": [
    "# Looking for low variability values"
   ]
  },
  {
   "cell_type": "code",
   "execution_count": 8,
   "id": "c9af6929",
   "metadata": {},
   "outputs": [
    {
     "ename": "AttributeError",
     "evalue": "type object 'datetime.datetime' has no attribute 'datetime'",
     "output_type": "error",
     "traceback": [
      "\u001b[1;31m---------------------------------------------------------------------------\u001b[0m",
      "\u001b[1;31mAttributeError\u001b[0m                            Traceback (most recent call last)",
      "\u001b[1;32m~\\AppData\\Local\\Temp/ipykernel_34356/3982435635.py\u001b[0m in \u001b[0;36m<module>\u001b[1;34m\u001b[0m\n\u001b[0;32m      7\u001b[0m \u001b[1;33m\u001b[0m\u001b[0m\n\u001b[0;32m      8\u001b[0m \u001b[1;32mfor\u001b[0m \u001b[0mv\u001b[0m \u001b[1;32min\u001b[0m \u001b[0mdf\u001b[0m\u001b[1;33m.\u001b[0m\u001b[0mcolumns\u001b[0m\u001b[1;33m:\u001b[0m\u001b[1;33m\u001b[0m\u001b[1;33m\u001b[0m\u001b[0m\n\u001b[1;32m----> 9\u001b[1;33m     \u001b[1;32mif\u001b[0m \u001b[0misinstance\u001b[0m\u001b[1;33m(\u001b[0m\u001b[0mdf\u001b[0m\u001b[1;33m[\u001b[0m\u001b[0mv\u001b[0m\u001b[1;33m]\u001b[0m\u001b[1;33m[\u001b[0m\u001b[1;36m0\u001b[0m\u001b[1;33m]\u001b[0m\u001b[1;33m,\u001b[0m \u001b[1;33m(\u001b[0m\u001b[0mdatetime\u001b[0m\u001b[1;33m.\u001b[0m\u001b[0mdatetime\u001b[0m\u001b[1;33m,\u001b[0m \u001b[0mdatetime\u001b[0m\u001b[1;33m.\u001b[0m\u001b[0mdate\u001b[0m\u001b[1;33m)\u001b[0m\u001b[1;33m)\u001b[0m\u001b[1;33m:\u001b[0m\u001b[1;33m\u001b[0m\u001b[1;33m\u001b[0m\u001b[0m\n\u001b[0m\u001b[0;32m     10\u001b[0m         \u001b[0mdf_\u001b[0m \u001b[1;33m=\u001b[0m \u001b[0mdf_\u001b[0m\u001b[1;33m.\u001b[0m\u001b[0mdrop\u001b[0m\u001b[1;33m(\u001b[0m\u001b[0mv\u001b[0m\u001b[1;33m,\u001b[0m \u001b[0maxis\u001b[0m\u001b[1;33m=\u001b[0m\u001b[1;36m1\u001b[0m\u001b[1;33m)\u001b[0m\u001b[1;33m\u001b[0m\u001b[1;33m\u001b[0m\u001b[0m\n\u001b[0;32m     11\u001b[0m         \u001b[0mprint\u001b[0m\u001b[1;33m(\u001b[0m\u001b[1;34mf'{v} was dropped'\u001b[0m\u001b[1;33m)\u001b[0m\u001b[1;33m\u001b[0m\u001b[1;33m\u001b[0m\u001b[0m\n",
      "\u001b[1;31mAttributeError\u001b[0m: type object 'datetime.datetime' has no attribute 'datetime'"
     ]
    }
   ],
   "source": [
    "# Excluding the timestamps (only for that analysis)\n",
    "\n",
    "from sklearn.preprocessing import LabelEncoder\n",
    "label_encoder = LabelEncoder() # label_encoder object\n",
    "\n",
    "df_ = df.copy()\n",
    "\n",
    "for v in df.columns:\n",
    "    if isinstance(df[v][0], (datetime.datetime, datetime.date)):\n",
    "        df_ = df_.drop(v, axis=1)\n",
    "        print(f'{v} was dropped')\n",
    "    else:\n",
    "        df_[v]= label_encoder.fit_transform(df_[v]) #Encode labels in column.         "
   ]
  },
  {
   "cell_type": "code",
   "execution_count": 9,
   "id": "e1b81229",
   "metadata": {},
   "outputs": [],
   "source": [
    "# An unexpected error at the datetime.datetime function forced this alternative path\n",
    "df_ = df.copy()\n",
    "df_.drop('Notification_Date', axis=1, inplace=True) \n",
    "df_.drop('First_Symptom_Date', axis=1, inplace=True) \n",
    "df_.drop('Birth_Date', axis=1, inplace=True) \n",
    "df_.drop('Admission_Date', axis=1, inplace=True) \n",
    "df_.drop('Intubation_Date', axis=1, inplace=True) \n",
    "df_.drop('ICU_Discharge_Date', axis=1, inplace=True) \n",
    "df_.drop('Sample_Date', axis=1, inplace=True) \n",
    "df_.drop('Evolution_Date', axis=1, inplace=True) \n",
    "df_.drop('Hospital_Discharge_Date', axis=1, inplace=True) \n",
    "df_.drop('PCR_Date', axis=1, inplace=True) \n",
    "\n",
    "for v in df_.columns:\n",
    "    df_[v]= label_encoder.fit_transform(df_[v]) #Encode labels in column. "
   ]
  },
  {
   "cell_type": "code",
   "execution_count": 10,
   "id": "6b0a9c5d",
   "metadata": {},
   "outputs": [
    {
     "name": "stdout",
     "output_type": "stream",
     "text": [
      "Number of match columns: 1 \n",
      "-->\n",
      "Sample\n",
      "------------------------------\n"
     ]
    }
   ],
   "source": [
    "from sklearn.feature_selection import VarianceThreshold\n",
    "\n",
    "var_thres = VarianceThreshold(threshold=0.0)\n",
    "var_thres = var_thres.fit(df_)\n",
    "\n",
    "constant_columns = [column for column in df_.columns\n",
    "                   if column not in df_.columns[var_thres.get_support()]]\n",
    "print(f'Number of match columns: {len(constant_columns)} \\n-->')\n",
    "\n",
    "for feature in constant_columns:\n",
    "    print(feature)\n",
    "print('--'*15)"
   ]
  },
  {
   "cell_type": "code",
   "execution_count": 11,
   "id": "1e9200a1",
   "metadata": {},
   "outputs": [
    {
     "data": {
      "text/plain": [
       "array(['1'], dtype=object)"
      ]
     },
     "execution_count": 11,
     "metadata": {},
     "output_type": "execute_result"
    }
   ],
   "source": [
    "df['Sample'].unique()"
   ]
  },
  {
   "cell_type": "markdown",
   "id": "fff5c581",
   "metadata": {},
   "source": [
    "> It makes sense that this variable does not have variability, since only those who were tested (1) were selected."
   ]
  },
  {
   "cell_type": "code",
   "execution_count": 12,
   "id": "bc5b8258",
   "metadata": {},
   "outputs": [
    {
     "name": "stdout",
     "output_type": "stream",
     "text": [
      "Number of match columns: 3 \n",
      "-->\n",
      "Hospitalized\n",
      "Sample\n",
      "Sample_Type\n",
      "------------------------------\n"
     ]
    }
   ],
   "source": [
    "var_thres = VarianceThreshold(threshold=0.1)\n",
    "var_thres = var_thres.fit(df_)\n",
    "\n",
    "constant_columns = [column for column in df_.columns\n",
    "                   if column not in df_.columns[var_thres.get_support()]]\n",
    "print(f'Number of match columns: {len(constant_columns)} \\n-->')\n",
    "\n",
    "for feature in constant_columns:\n",
    "    print(feature)\n",
    "print('--'*15)"
   ]
  },
  {
   "cell_type": "code",
   "execution_count": 13,
   "id": "ba606946",
   "metadata": {},
   "outputs": [
    {
     "data": {
      "text/plain": [
       "array(['Naso-oropharynx secretion', 'Brocho-alveolar lavage',\n",
       "       'CSF - cerebrospinal fluid'], dtype=object)"
      ]
     },
     "execution_count": 13,
     "metadata": {},
     "output_type": "execute_result"
    }
   ],
   "source": [
    "df['Sample_Type'].unique()"
   ]
  },
  {
   "cell_type": "code",
   "execution_count": 14,
   "id": "bde65778",
   "metadata": {},
   "outputs": [
    {
     "name": "stdout",
     "output_type": "stream",
     "text": [
      "Total: 826900\n",
      "Naso-oropharynx secretion: 821749\n",
      "Brocho-alveolar lavage: 5108\n",
      "CSF - cerebrospinal fluid: 43\n"
     ]
    }
   ],
   "source": [
    "print(f'Total: {df.shape[0]}')\n",
    "print(f'Naso-oropharynx secretion: {df.Sample_Type[df.Sample_Type == \"Naso-oropharynx secretion\"].count()}')\n",
    "print(f'Brocho-alveolar lavage: {df.Sample_Type[df.Sample_Type == \"Brocho-alveolar lavage\"].count()}')\n",
    "print(f'CSF - cerebrospinal fluid: {df.Sample_Type[df.Sample_Type == \"CSF - cerebrospinal fluid\"].count()}')"
   ]
  },
  {
   "cell_type": "code",
   "execution_count": 15,
   "id": "3779ed64",
   "metadata": {},
   "outputs": [
    {
     "data": {
      "text/plain": [
       "array(['1', '0', 'Ignored'], dtype=object)"
      ]
     },
     "execution_count": 15,
     "metadata": {},
     "output_type": "execute_result"
    }
   ],
   "source": [
    "df['Hospitalized'].unique()"
   ]
  },
  {
   "cell_type": "code",
   "execution_count": 16,
   "id": "8ec33262",
   "metadata": {},
   "outputs": [
    {
     "name": "stdout",
     "output_type": "stream",
     "text": [
      "Total: 826900\n",
      "Yes: 792146\n",
      "No: 20754\n",
      "Ignored: 14000\n"
     ]
    }
   ],
   "source": [
    "print(f'Total: {df.shape[0]}')\n",
    "print(f'Yes: {df.Hospitalized[df.Hospitalized == \"1\"].count()}')\n",
    "print(f'No: {df.Hospitalized[df.Hospitalized == \"0\"].count()}')\n",
    "print(f'Ignored: {df.Hospitalized[df.Hospitalized == \"Ignored\"].count()}')"
   ]
  },
  {
   "cell_type": "markdown",
   "id": "85f12d70",
   "metadata": {},
   "source": [
    "> The vast majority of tests are Naso-oropharynx secretion tests.  \n",
    "> Hospitalized will be further investigated, even thoung there is a majority of samples from hospitalization"
   ]
  },
  {
   "cell_type": "code",
   "execution_count": 17,
   "id": "513fe3a8",
   "metadata": {},
   "outputs": [
    {
     "name": "stdout",
     "output_type": "stream",
     "text": [
      "Number of match columns: 4 \n",
      "-->\n",
      "Antiviral_Type\n",
      "Hospitalized\n",
      "Sample\n",
      "Sample_Type\n",
      "------------------------------\n"
     ]
    }
   ],
   "source": [
    "var_thres = VarianceThreshold(threshold=0.2)\n",
    "var_thres = var_thres.fit(df_)\n",
    "\n",
    "constant_columns = [column for column in df_.columns\n",
    "                   if column not in df_.columns[var_thres.get_support()]]\n",
    "print(f'Number of match columns: {len(constant_columns)} \\n-->')\n",
    "\n",
    "for feature in constant_columns:\n",
    "    print(feature)\n",
    "print('--'*15)"
   ]
  },
  {
   "cell_type": "code",
   "execution_count": 18,
   "id": "63b8be9b",
   "metadata": {},
   "outputs": [
    {
     "data": {
      "text/plain": [
       "array(['Ignored', '1', '0'], dtype=object)"
      ]
     },
     "execution_count": 18,
     "metadata": {},
     "output_type": "execute_result"
    }
   ],
   "source": [
    "df['Antiviral_Type'].unique()"
   ]
  },
  {
   "cell_type": "code",
   "execution_count": 19,
   "id": "1832c0f6",
   "metadata": {},
   "outputs": [
    {
     "name": "stdout",
     "output_type": "stream",
     "text": [
      "Total: 826900\n",
      "Yes: 127223\n",
      "No: 830\n",
      "Ignored: 698847\n"
     ]
    }
   ],
   "source": [
    "print(f'Total: {df.shape[0]}')\n",
    "print(f'Yes: {df.Antiviral_Type[df.Antiviral_Type == \"1\"].count()}')\n",
    "print(f'No: {df.Antiviral_Type[df.Antiviral_Type == \"0\"].count()}')\n",
    "print(f'Ignored: {df.Antiviral_Type[df.Antiviral_Type == \"Ignored\"].count()}')"
   ]
  },
  {
   "cell_type": "markdown",
   "id": "73632b72",
   "metadata": {},
   "source": [
    "> Antiviral Type must be investigated"
   ]
  },
  {
   "cell_type": "code",
   "execution_count": 20,
   "id": "78434f84",
   "metadata": {},
   "outputs": [
    {
     "name": "stdout",
     "output_type": "stream",
     "text": [
      "Number of match columns: 8 \n",
      "-->\n",
      "Poultry_Swine\n",
      "Risk_Factors\n",
      "Antiviral_Type\n",
      "Hospitalized\n",
      "Sample\n",
      "Sample_Type\n",
      "PCR_Result\n",
      "Evolution\n",
      "------------------------------\n"
     ]
    }
   ],
   "source": [
    "var_thres = VarianceThreshold(threshold=0.3)\n",
    "var_thres = var_thres.fit(df_)\n",
    "\n",
    "constant_columns = [column for column in df_.columns\n",
    "                   if column not in df_.columns[var_thres.get_support()]]\n",
    "print(f'Number of match columns: {len(constant_columns)} \\n-->')\n",
    "\n",
    "for feature in constant_columns:\n",
    "    print(feature)\n",
    "print('--'*15)"
   ]
  },
  {
   "cell_type": "code",
   "execution_count": 21,
   "id": "235569b1",
   "metadata": {},
   "outputs": [
    {
     "data": {
      "text/plain": [
       "array(['Detectable', 'Not Detectable'], dtype=object)"
      ]
     },
     "execution_count": 21,
     "metadata": {},
     "output_type": "execute_result"
    }
   ],
   "source": [
    "df['PCR_Result'].unique()"
   ]
  },
  {
   "cell_type": "code",
   "execution_count": 22,
   "id": "206081f9",
   "metadata": {},
   "outputs": [
    {
     "name": "stdout",
     "output_type": "stream",
     "text": [
      "Total: 826900\n",
      "Detectable: 484320\n",
      "Not Detectable: 342580\n"
     ]
    }
   ],
   "source": [
    "print(f'Total: {df.shape[0]}')\n",
    "print(f'Detectable: {df.PCR_Result[df.PCR_Result == \"Detectable\"].count()}')\n",
    "print(f'Not Detectable: {df.PCR_Result[df.PCR_Result == \"Not Detectable\"].count()}')"
   ]
  },
  {
   "cell_type": "code",
   "execution_count": 23,
   "id": "9498c692",
   "metadata": {},
   "outputs": [
    {
     "data": {
      "text/plain": [
       "array(['Cure', 'Death'], dtype=object)"
      ]
     },
     "execution_count": 23,
     "metadata": {},
     "output_type": "execute_result"
    }
   ],
   "source": [
    "df['Evolution'].unique()"
   ]
  },
  {
   "cell_type": "code",
   "execution_count": 24,
   "id": "345c91cd",
   "metadata": {},
   "outputs": [
    {
     "name": "stdout",
     "output_type": "stream",
     "text": [
      "Total: 826900\n",
      "Cure: 590985\n",
      "Death: 235915\n"
     ]
    }
   ],
   "source": [
    "print(f'Total: {df.shape[0]}')\n",
    "print(f'Cure: {df.Evolution[df.Evolution == \"Cure\"].count()}')\n",
    "print(f'Death: {df.Evolution[df.Evolution == \"Death\"].count()}')"
   ]
  },
  {
   "cell_type": "markdown",
   "id": "c6e20c3f",
   "metadata": {},
   "source": [
    "> Poultry Swine will be investigated  \n",
    "> The Risk Factor variable summarizes the existence or not of risk factors, but there are the main risk factors detailed in the df. "
   ]
  },
  {
   "cell_type": "code",
   "execution_count": 25,
   "id": "341feb50",
   "metadata": {},
   "outputs": [],
   "source": [
    "df.drop('Sample', axis=1, inplace=True)\n",
    "df.drop('Sample_Type', axis=1, inplace=True)\n",
    "df.drop('Hospitalized', axis=1, inplace=True)"
   ]
  },
  {
   "cell_type": "markdown",
   "id": "f3d0589f",
   "metadata": {},
   "source": [
    "# Checking for important missing data"
   ]
  },
  {
   "cell_type": "code",
   "execution_count": 26,
   "id": "38de4eba",
   "metadata": {
    "scrolled": true
   },
   "outputs": [
    {
     "data": {
      "text/plain": [
       "Notification_Date           0.000000\n",
       "First_Symptom_Date          0.000000\n",
       "State                       0.000000\n",
       "County_ID                   0.000000\n",
       "Health_Unit                 0.000000\n",
       "Gender                      0.000000\n",
       "Birth_Date                  0.122748\n",
       "Pregnancy                   0.000000\n",
       "Race                        0.000000\n",
       "Schooling                   0.000000\n",
       "Poultry_Swine               0.000000\n",
       "Fever                       0.000000\n",
       "Cough                       0.000000\n",
       "Sore_Throat                 0.000000\n",
       "Dyspnea                     0.000000\n",
       "Respiratory_Discomfort      0.000000\n",
       "Saturation                  0.000000\n",
       "Diarrhea                    0.000000\n",
       "Vomiting                    0.000000\n",
       "Other_Symptoms              0.000000\n",
       "Postpartum                  0.000000\n",
       "Risk_Factors                0.000000\n",
       "Heart_Disease               0.000000\n",
       "Hematology                  0.000000\n",
       "Down_Syndrome               0.000000\n",
       "Liver_Disease               0.000000\n",
       "Asthma                      0.000000\n",
       "Diabetes                    0.000000\n",
       "Neuropathies                0.000000\n",
       "Lung_Disease                0.000000\n",
       "Immunosuppression           0.000000\n",
       "Kidney_Disease              0.000000\n",
       "Obesity                     0.000000\n",
       "Other_Morbidities           0.000000\n",
       "Vaccine                     0.000000\n",
       "Antiviral                   0.000000\n",
       "Antiviral_Type              0.000000\n",
       "Admission_Date              5.388439\n",
       "ICU                         0.000000\n",
       "Intubation_Date            69.586528\n",
       "ICU_Discharge_Date         81.531624\n",
       "Ventilatory_Support         0.000000\n",
       "X_Ray_Result                0.000000\n",
       "X_Ray_Date                 68.354940\n",
       "Sample_Date                 0.000000\n",
       "PCR_Result                  0.000000\n",
       "PCR_Date                    0.026726\n",
       "Criterion                   0.000000\n",
       "Evolution                   0.000000\n",
       "Evolution_Date              3.789092\n",
       "Hospital_Discharge_Date     0.739630\n",
       "dtype: float64"
      ]
     },
     "execution_count": 26,
     "metadata": {},
     "output_type": "execute_result"
    }
   ],
   "source": [
    "(df.isnull().sum()/df.shape[0])*100"
   ]
  },
  {
   "cell_type": "code",
   "execution_count": 27,
   "id": "f93adcd1",
   "metadata": {},
   "outputs": [],
   "source": [
    "df[df['Intubation_Date'].isnull() == True];"
   ]
  },
  {
   "cell_type": "code",
   "execution_count": 28,
   "id": "cbd5ffc9",
   "metadata": {},
   "outputs": [],
   "source": [
    "df[df['Evolution_Date'].isnull() == True];"
   ]
  },
  {
   "cell_type": "markdown",
   "id": "4007148b",
   "metadata": {},
   "source": [
    "# Calculating Age "
   ]
  },
  {
   "cell_type": "code",
   "execution_count": 29,
   "id": "d95dc4fb",
   "metadata": {},
   "outputs": [
    {
     "name": "stdout",
     "output_type": "stream",
     "text": [
      "825885\n",
      "1015 rejected\n"
     ]
    }
   ],
   "source": [
    "df['Age'] = df['Notification_Date'].dt.year - df['Birth_Date'].dt.year\n",
    "\n",
    "df.drop('Birth_Date', axis=1, inplace=True) \n",
    "\n",
    "df = df.dropna(subset=['Age'], how='any')\n",
    "\n",
    "n_tuples_3 = df.shape[0]\n",
    "print(n_tuples_3)\n",
    "print(f'{n_tuples_2 - n_tuples_3} rejected')"
   ]
  },
  {
   "cell_type": "markdown",
   "id": "f3802549",
   "metadata": {},
   "source": [
    "## Analysing Age"
   ]
  },
  {
   "cell_type": "code",
   "execution_count": 30,
   "id": "c65db112",
   "metadata": {},
   "outputs": [
    {
     "name": "stdout",
     "output_type": "stream",
     "text": [
      "122.0\n",
      "0.0\n",
      "57.2949744819194\n",
      "22.742659281958566\n",
      "-0.6915203741719252\n"
     ]
    }
   ],
   "source": [
    "from scipy.stats import skew\n",
    "\n",
    "print(df.Age.max())\n",
    "print(df.Age.min())\n",
    "print(df.Age.mean())\n",
    "print(df.Age.std())\n",
    "print(skew(df['Age']))"
   ]
  },
  {
   "cell_type": "markdown",
   "id": "db59cd9f",
   "metadata": {},
   "source": [
    "> A 100 year limit will be imposed on the df"
   ]
  },
  {
   "cell_type": "code",
   "execution_count": 31,
   "id": "ed729c4c",
   "metadata": {},
   "outputs": [
    {
     "name": "stdout",
     "output_type": "stream",
     "text": [
      "824231\n",
      "1654 rejected\n"
     ]
    }
   ],
   "source": [
    "var1 = 100\n",
    "df = df.query('Age < @var1')\n",
    "\n",
    "n_tuples_4 = df.shape[0]\n",
    "print(n_tuples_4)\n",
    "print(f'{n_tuples_3 - n_tuples_4} rejected')"
   ]
  },
  {
   "cell_type": "markdown",
   "id": "e0fbf10e",
   "metadata": {},
   "source": [
    "# Calculating Time Period of the Outbreak\n",
    "> Variables used: Notification_Date (no missing values)"
   ]
  },
  {
   "cell_type": "code",
   "execution_count": 32,
   "id": "2d221151",
   "metadata": {},
   "outputs": [
    {
     "name": "stdout",
     "output_type": "stream",
     "text": [
      "2023-02-27 00:00:00\n",
      "2019-12-29 00:00:00\n"
     ]
    }
   ],
   "source": [
    "print(df['Notification_Date'].max())\n",
    "print(df['Notification_Date'].min())"
   ]
  },
  {
   "cell_type": "code",
   "execution_count": 33,
   "id": "496192fc",
   "metadata": {},
   "outputs": [],
   "source": [
    "time_period = []\n",
    "\n",
    "for v in df['Notification_Date']:\n",
    "    if v < datetime.strptime('2020-03-29','%Y-%m-%d'):\n",
    "        time_period.append(1)\n",
    "    elif v < datetime.strptime('2020-06-29','%Y-%m-%d'):\n",
    "        time_period.append(2)\n",
    "    elif v < datetime.strptime('2020-09-29','%Y-%m-%d'):\n",
    "        time_period.append(3)\n",
    "    elif v < datetime.strptime('2020-12-29','%Y-%m-%d'):\n",
    "        time_period.append(4)\n",
    "    elif v < datetime.strptime('2021-03-29','%Y-%m-%d'):\n",
    "        time_period.append(5)\n",
    "    elif v < datetime.strptime('2021-06-29','%Y-%m-%d'):\n",
    "        time_period.append(6)\n",
    "    elif v < datetime.strptime('2021-09-29','%Y-%m-%d'):\n",
    "        time_period.append(7)\n",
    "    elif v < datetime.strptime('2021-12-29','%Y-%m-%d'):\n",
    "        time_period.append(8)\n",
    "    elif v < datetime.strptime('2022-03-29','%Y-%m-%d'):\n",
    "        time_period.append(9)\n",
    "    elif v < datetime.strptime('2022-06-29','%Y-%m-%d'):\n",
    "        time_period.append(10)\n",
    "    elif v < datetime.strptime('2022-09-29','%Y-%m-%d'):\n",
    "        time_period.append(11)\n",
    "    elif v < datetime.strptime('2022-12-29','%Y-%m-%d'):\n",
    "        time_period.append(12)\n",
    "    elif v < datetime.strptime('2023-03-29','%Y-%m-%d'):\n",
    "        time_period.append(12)\n",
    "    else:\n",
    "        time_period.append[0]\n",
    "        \n",
    "df['Outbreak_Period'] = time_period                                 "
   ]
  },
  {
   "cell_type": "code",
   "execution_count": 137,
   "id": "ba48446e",
   "metadata": {},
   "outputs": [],
   "source": [
    "# Calcular a contagem de surtos por período\n",
    "outbreak_count = df.groupby(['Outbreak_Period']).size().reset_index(name='Outbreak_Count')\n",
    "\n",
    "# Merge dos dados originais com a contagem de surtos\n",
    "df = df.merge(outbreak_count, on='Outbreak_Period')\n",
    "\n",
    "section = df.groupby(['Outbreak_Period', 'PCR_Result']).count()\n",
    "section = pd.DataFrame(section['Outbreak_Count'])\n",
    "section = section.reset_index()\n",
    "section;"
   ]
  },
  {
   "cell_type": "code",
   "execution_count": 35,
   "id": "0e72ca1f",
   "metadata": {},
   "outputs": [
    {
     "data": {
      "image/png": "[encoded data removed]",
      "text/plain": [
       "<Figure size 1080x720 with 1 Axes>"
      ]
     },
     "metadata": {
      "needs_background": "light"
     },
     "output_type": "display_data"
    }
   ],
   "source": [
    "plt.figure(figsize = (15,10))\n",
    "sns.barplot(x='Outbreak_Period', y='Outbreak_Count', hue='PCR_Result', data=section, order=None, hue_order=None, \n",
    "                ci=None, n_boot=1000, units=None, seed=None, orient=None, color='Purple', palette=None, \n",
    "                saturation=0.75, errcolor='.26', errwidth=None, capsize=None, dodge=True, ax=None)\n",
    "\n",
    "plt.title('Contagem de Surtos por Período e Resultado do PCR')\n",
    "plt.xlabel('Período de Surto')\n",
    "plt.ylabel('Contagem de Surtos')\n",
    "plt.legend(title='Resultado do PCR')\n",
    "\n",
    "plt.show()"
   ]
  },
  {
   "cell_type": "markdown",
   "id": "baf2c2f3",
   "metadata": {},
   "source": [
    "> The majority of cases are related to the beginning of the pandemic 2020-12-29"
   ]
  },
  {
   "cell_type": "markdown",
   "id": "a62b7b69",
   "metadata": {},
   "source": [
    "# PCR result and Symptoms Start Date"
   ]
  },
  {
   "cell_type": "code",
   "execution_count": 138,
   "id": "827c29e7",
   "metadata": {},
   "outputs": [],
   "source": [
    "df['TimeDelta_PCR'] = df['PCR_Date'] - df['First_Symptom_Date']\n",
    "df['TimeDelta_PCR'] = df['TimeDelta_PCR'].dt.days"
   ]
  },
  {
   "cell_type": "code",
   "execution_count": 139,
   "id": "84a8cefb",
   "metadata": {},
   "outputs": [],
   "source": [
    "df_ = df.dropna(subset=['TimeDelta_PCR'], how='any')"
   ]
  },
  {
   "cell_type": "code",
   "execution_count": 140,
   "id": "83c0aeab",
   "metadata": {},
   "outputs": [
    {
     "name": "stdout",
     "output_type": "stream",
     "text": [
      "898.0\n",
      "0.0\n",
      "10.06221526437786\n",
      "15.963586634480567\n",
      "20.07242367598851\n",
      "221\n"
     ]
    }
   ],
   "source": [
    "print(df.TimeDelta_PCR.max())\n",
    "print(df.TimeDelta_PCR.min())\n",
    "print(df.TimeDelta_PCR.mean())\n",
    "print(df.TimeDelta_PCR.std())\n",
    "print(skew(df_['TimeDelta_PCR']))\n",
    "print(df['TimeDelta_PCR'].isnull().sum())"
   ]
  },
  {
   "cell_type": "markdown",
   "id": "2a5d4161",
   "metadata": {},
   "source": [
    "### Removing Outliers"
   ]
  },
  {
   "cell_type": "code",
   "execution_count": 141,
   "id": "badbbe43",
   "metadata": {},
   "outputs": [],
   "source": [
    "mean = df.TimeDelta_PCR.mean( )\n",
    "std = df.TimeDelta_PCR.std( )\n",
    "valor_inf = mean - 3 * std\n",
    "valor_sup = mean + 3  * std\n",
    "df = df[(df.TimeDelta_PCR < valor_sup) & (df.TimeDelta_PCR > valor_inf)]"
   ]
  },
  {
   "cell_type": "code",
   "execution_count": 142,
   "id": "9f4925ea",
   "metadata": {},
   "outputs": [
    {
     "name": "stdout",
     "output_type": "stream",
     "text": [
      "818651\n",
      "5580 rejected\n"
     ]
    }
   ],
   "source": [
    "n_tuples_5 = df.shape[0]\n",
    "print(n_tuples_5)\n",
    "print(f'{n_tuples_4 - n_tuples_5} rejected')"
   ]
  },
  {
   "cell_type": "code",
   "execution_count": 41,
   "id": "de85803c",
   "metadata": {},
   "outputs": [
    {
     "data": {
      "image/png": "[encoded data removed]",
      "text/plain": [
       "<Figure size 1080x504 with 1 Axes>"
      ]
     },
     "metadata": {
      "needs_background": "light"
     },
     "output_type": "display_data"
    }
   ],
   "source": [
    "# https://seaborn.pydata.org/generated/seaborn.histplot.html\n",
    "#plt.figure(figsize = (15,7))\n",
    "fig, ax = plt.subplots(figsize = (15,7))\n",
    "sns.histplot(data=df, x=df['TimeDelta_PCR'], y=None, hue='PCR_Result', weights=None,\n",
    "                 stat='count', bins=101, binwidth=1, binrange=None,\n",
    "                 discrete=None, cumulative=False, common_bins=True, common_norm=True,\n",
    "                 multiple='layer', element='step', fill=True, shrink=1, kde=True, kde_kws=None, \n",
    "                 line_kws=None, thresh=0, pthresh=None, pmax=None, cbar=False, cbar_ax=None,\n",
    "                 cbar_kws=None, palette='icefire', hue_order=None, hue_norm=None, color= None, \n",
    "                 log_scale=None, legend=True, ax=ax)\n",
    "#ax.set_xlim(70, 700)\n",
    "#ax.set_ylim(0, 20)\n",
    "#ax.set_xlim(0, 40)\n",
    "\n",
    "\n",
    "plt.show()\n",
    "# element{“bars”, “step”, “poly”}\n",
    "# multiple{“layer”, “dodge”, “stack”, “fill”}\n",
    "# palette{husl, Set2, Paired, rocket, mako, flare, crest, magma, viridis, rocket_r, cubehelix, icefire}"
   ]
  },
  {
   "cell_type": "code",
   "execution_count": 143,
   "id": "1f9a7e41",
   "metadata": {},
   "outputs": [
    {
     "data": {
      "image/png": "[encoded data removed]",
      "text/plain": [
       "<Figure size 4500x2100 with 1 Axes>"
      ]
     },
     "metadata": {},
     "output_type": "display_data"
    }
   ],
   "source": [
    "#plt.figure(num=None, figsize=(15,10), dpi=300, facecolor=None, edgecolor= None, frameon=False, clear=False)\n",
    "fig, ax = plt.subplots(figsize = (15,7), dpi=300, facecolor=None, edgecolor= None, frameon=False, clear=False)\n",
    "sns.boxplot(x='PCR_Result', y='TimeDelta_PCR', hue=None, data=df, order=None,\n",
    "            hue_order=None, orient='v', color=None, palette='Set1',\n",
    "            saturation=0.99, width=0.75, dodge=True, fliersize=2, \n",
    "            linewidth=0.5, whis=1.5, ax=None, showmeans=True, meanprops={\"marker\": \"*\", \"markeredgecolor\": \"black\", \"markersize\": \"5\"})\n",
    "\n",
    "#ax.set_xlim(70, 700)\n",
    "#ax.set_ylim(0, 30)\n",
    "\n",
    "plt.title('Boxplot - PCR Result by PCR TimeDelta', fontsize = 15, fontweight = 'bold')\n",
    "plt.xlabel('PCR Result')\n",
    "plt.ylabel('TimeDelta_PCR', fontsize = 15)\n",
    "plt.xticks(rotation=0)\n",
    "plt.yticks(rotation=0)\n",
    "plt.box = False\n"
   ]
  },
  {
   "cell_type": "code",
   "execution_count": 144,
   "id": "f7291b22",
   "metadata": {},
   "outputs": [
    {
     "data": {
      "text/html": [
       "<div>\n",
       "<style scoped>\n",
       "    .dataframe tbody tr th:only-of-type {\n",
       "        vertical-align: middle;\n",
       "    }\n",
       "\n",
       "    .dataframe tbody tr th {\n",
       "        vertical-align: top;\n",
       "    }\n",
       "\n",
       "    .dataframe thead th {\n",
       "        text-align: right;\n",
       "    }\n",
       "</style>\n",
       "<table border=\"1\" class=\"dataframe\">\n",
       "  <thead>\n",
       "    <tr style=\"text-align: right;\">\n",
       "      <th></th>\n",
       "      <th>Positives</th>\n",
       "      <th>Negatives</th>\n",
       "      <th>Diference</th>\n",
       "      <th>Ratio P/N</th>\n",
       "    </tr>\n",
       "    <tr>\n",
       "      <th>TimeDelta_PCR</th>\n",
       "      <th></th>\n",
       "      <th></th>\n",
       "      <th></th>\n",
       "      <th></th>\n",
       "    </tr>\n",
       "  </thead>\n",
       "  <tbody>\n",
       "    <tr>\n",
       "      <th>0.0</th>\n",
       "      <td>9720</td>\n",
       "      <td>3448</td>\n",
       "      <td>-6272</td>\n",
       "      <td>2.819026</td>\n",
       "    </tr>\n",
       "    <tr>\n",
       "      <th>1.0</th>\n",
       "      <td>13582</td>\n",
       "      <td>9471</td>\n",
       "      <td>-4111</td>\n",
       "      <td>1.434062</td>\n",
       "    </tr>\n",
       "    <tr>\n",
       "      <th>2.0</th>\n",
       "      <td>20650</td>\n",
       "      <td>17671</td>\n",
       "      <td>-2979</td>\n",
       "      <td>1.168581</td>\n",
       "    </tr>\n",
       "    <tr>\n",
       "      <th>3.0</th>\n",
       "      <td>26895</td>\n",
       "      <td>24872</td>\n",
       "      <td>-2023</td>\n",
       "      <td>1.081336</td>\n",
       "    </tr>\n",
       "    <tr>\n",
       "      <th>4.0</th>\n",
       "      <td>32931</td>\n",
       "      <td>30476</td>\n",
       "      <td>-2455</td>\n",
       "      <td>1.080555</td>\n",
       "    </tr>\n",
       "    <tr>\n",
       "      <th>5.0</th>\n",
       "      <td>36728</td>\n",
       "      <td>32726</td>\n",
       "      <td>-4002</td>\n",
       "      <td>1.122288</td>\n",
       "    </tr>\n",
       "    <tr>\n",
       "      <th>6.0</th>\n",
       "      <td>38762</td>\n",
       "      <td>31534</td>\n",
       "      <td>-7228</td>\n",
       "      <td>1.229213</td>\n",
       "    </tr>\n",
       "    <tr>\n",
       "      <th>7.0</th>\n",
       "      <td>39636</td>\n",
       "      <td>29156</td>\n",
       "      <td>-10480</td>\n",
       "      <td>1.359446</td>\n",
       "    </tr>\n",
       "    <tr>\n",
       "      <th>8.0</th>\n",
       "      <td>38371</td>\n",
       "      <td>25475</td>\n",
       "      <td>-12896</td>\n",
       "      <td>1.506222</td>\n",
       "    </tr>\n",
       "    <tr>\n",
       "      <th>9.0</th>\n",
       "      <td>34372</td>\n",
       "      <td>21478</td>\n",
       "      <td>-12894</td>\n",
       "      <td>1.600335</td>\n",
       "    </tr>\n",
       "    <tr>\n",
       "      <th>10.0</th>\n",
       "      <td>31128</td>\n",
       "      <td>17558</td>\n",
       "      <td>-13570</td>\n",
       "      <td>1.772867</td>\n",
       "    </tr>\n",
       "    <tr>\n",
       "      <th>11.0</th>\n",
       "      <td>26558</td>\n",
       "      <td>14277</td>\n",
       "      <td>-12281</td>\n",
       "      <td>1.860195</td>\n",
       "    </tr>\n",
       "    <tr>\n",
       "      <th>12.0</th>\n",
       "      <td>22285</td>\n",
       "      <td>11578</td>\n",
       "      <td>-10707</td>\n",
       "      <td>1.924771</td>\n",
       "    </tr>\n",
       "    <tr>\n",
       "      <th>13.0</th>\n",
       "      <td>18306</td>\n",
       "      <td>9406</td>\n",
       "      <td>-8900</td>\n",
       "      <td>1.946205</td>\n",
       "    </tr>\n",
       "    <tr>\n",
       "      <th>14.0</th>\n",
       "      <td>15268</td>\n",
       "      <td>7899</td>\n",
       "      <td>-7369</td>\n",
       "      <td>1.932903</td>\n",
       "    </tr>\n",
       "    <tr>\n",
       "      <th>15.0</th>\n",
       "      <td>12577</td>\n",
       "      <td>6780</td>\n",
       "      <td>-5797</td>\n",
       "      <td>1.855015</td>\n",
       "    </tr>\n",
       "    <tr>\n",
       "      <th>16.0</th>\n",
       "      <td>10393</td>\n",
       "      <td>5977</td>\n",
       "      <td>-4416</td>\n",
       "      <td>1.738832</td>\n",
       "    </tr>\n",
       "    <tr>\n",
       "      <th>17.0</th>\n",
       "      <td>8436</td>\n",
       "      <td>4960</td>\n",
       "      <td>-3476</td>\n",
       "      <td>1.700806</td>\n",
       "    </tr>\n",
       "    <tr>\n",
       "      <th>18.0</th>\n",
       "      <td>6798</td>\n",
       "      <td>4151</td>\n",
       "      <td>-2647</td>\n",
       "      <td>1.637678</td>\n",
       "    </tr>\n",
       "    <tr>\n",
       "      <th>19.0</th>\n",
       "      <td>5607</td>\n",
       "      <td>3460</td>\n",
       "      <td>-2147</td>\n",
       "      <td>1.620520</td>\n",
       "    </tr>\n",
       "    <tr>\n",
       "      <th>20.0</th>\n",
       "      <td>4363</td>\n",
       "      <td>3005</td>\n",
       "      <td>-1358</td>\n",
       "      <td>1.451913</td>\n",
       "    </tr>\n",
       "    <tr>\n",
       "      <th>21.0</th>\n",
       "      <td>3654</td>\n",
       "      <td>2535</td>\n",
       "      <td>-1119</td>\n",
       "      <td>1.441420</td>\n",
       "    </tr>\n",
       "    <tr>\n",
       "      <th>22.0</th>\n",
       "      <td>2953</td>\n",
       "      <td>2162</td>\n",
       "      <td>-791</td>\n",
       "      <td>1.365865</td>\n",
       "    </tr>\n",
       "    <tr>\n",
       "      <th>23.0</th>\n",
       "      <td>2320</td>\n",
       "      <td>1879</td>\n",
       "      <td>-441</td>\n",
       "      <td>1.234699</td>\n",
       "    </tr>\n",
       "    <tr>\n",
       "      <th>24.0</th>\n",
       "      <td>1975</td>\n",
       "      <td>1557</td>\n",
       "      <td>-418</td>\n",
       "      <td>1.268465</td>\n",
       "    </tr>\n",
       "    <tr>\n",
       "      <th>25.0</th>\n",
       "      <td>1693</td>\n",
       "      <td>1414</td>\n",
       "      <td>-279</td>\n",
       "      <td>1.197313</td>\n",
       "    </tr>\n",
       "    <tr>\n",
       "      <th>26.0</th>\n",
       "      <td>1454</td>\n",
       "      <td>1214</td>\n",
       "      <td>-240</td>\n",
       "      <td>1.197694</td>\n",
       "    </tr>\n",
       "    <tr>\n",
       "      <th>27.0</th>\n",
       "      <td>1187</td>\n",
       "      <td>1075</td>\n",
       "      <td>-112</td>\n",
       "      <td>1.104186</td>\n",
       "    </tr>\n",
       "    <tr>\n",
       "      <th>28.0</th>\n",
       "      <td>1075</td>\n",
       "      <td>934</td>\n",
       "      <td>-141</td>\n",
       "      <td>1.150964</td>\n",
       "    </tr>\n",
       "    <tr>\n",
       "      <th>29.0</th>\n",
       "      <td>882</td>\n",
       "      <td>802</td>\n",
       "      <td>-80</td>\n",
       "      <td>1.099751</td>\n",
       "    </tr>\n",
       "    <tr>\n",
       "      <th>30.0</th>\n",
       "      <td>834</td>\n",
       "      <td>788</td>\n",
       "      <td>-46</td>\n",
       "      <td>1.058376</td>\n",
       "    </tr>\n",
       "    <tr>\n",
       "      <th>31.0</th>\n",
       "      <td>843</td>\n",
       "      <td>782</td>\n",
       "      <td>-61</td>\n",
       "      <td>1.078005</td>\n",
       "    </tr>\n",
       "    <tr>\n",
       "      <th>32.0</th>\n",
       "      <td>794</td>\n",
       "      <td>870</td>\n",
       "      <td>76</td>\n",
       "      <td>0.912644</td>\n",
       "    </tr>\n",
       "    <tr>\n",
       "      <th>33.0</th>\n",
       "      <td>727</td>\n",
       "      <td>814</td>\n",
       "      <td>87</td>\n",
       "      <td>0.893120</td>\n",
       "    </tr>\n",
       "    <tr>\n",
       "      <th>34.0</th>\n",
       "      <td>698</td>\n",
       "      <td>721</td>\n",
       "      <td>23</td>\n",
       "      <td>0.968100</td>\n",
       "    </tr>\n",
       "    <tr>\n",
       "      <th>35.0</th>\n",
       "      <td>694</td>\n",
       "      <td>686</td>\n",
       "      <td>-8</td>\n",
       "      <td>1.011662</td>\n",
       "    </tr>\n",
       "    <tr>\n",
       "      <th>36.0</th>\n",
       "      <td>546</td>\n",
       "      <td>625</td>\n",
       "      <td>79</td>\n",
       "      <td>0.873600</td>\n",
       "    </tr>\n",
       "    <tr>\n",
       "      <th>37.0</th>\n",
       "      <td>549</td>\n",
       "      <td>487</td>\n",
       "      <td>-62</td>\n",
       "      <td>1.127310</td>\n",
       "    </tr>\n",
       "    <tr>\n",
       "      <th>38.0</th>\n",
       "      <td>504</td>\n",
       "      <td>466</td>\n",
       "      <td>-38</td>\n",
       "      <td>1.081545</td>\n",
       "    </tr>\n",
       "    <tr>\n",
       "      <th>39.0</th>\n",
       "      <td>483</td>\n",
       "      <td>374</td>\n",
       "      <td>-109</td>\n",
       "      <td>1.291444</td>\n",
       "    </tr>\n",
       "    <tr>\n",
       "      <th>40.0</th>\n",
       "      <td>380</td>\n",
       "      <td>339</td>\n",
       "      <td>-41</td>\n",
       "      <td>1.120944</td>\n",
       "    </tr>\n",
       "    <tr>\n",
       "      <th>41.0</th>\n",
       "      <td>333</td>\n",
       "      <td>272</td>\n",
       "      <td>-61</td>\n",
       "      <td>1.224265</td>\n",
       "    </tr>\n",
       "    <tr>\n",
       "      <th>42.0</th>\n",
       "      <td>295</td>\n",
       "      <td>267</td>\n",
       "      <td>-28</td>\n",
       "      <td>1.104869</td>\n",
       "    </tr>\n",
       "    <tr>\n",
       "      <th>43.0</th>\n",
       "      <td>280</td>\n",
       "      <td>258</td>\n",
       "      <td>-22</td>\n",
       "      <td>1.085271</td>\n",
       "    </tr>\n",
       "    <tr>\n",
       "      <th>44.0</th>\n",
       "      <td>229</td>\n",
       "      <td>213</td>\n",
       "      <td>-16</td>\n",
       "      <td>1.075117</td>\n",
       "    </tr>\n",
       "    <tr>\n",
       "      <th>45.0</th>\n",
       "      <td>203</td>\n",
       "      <td>184</td>\n",
       "      <td>-19</td>\n",
       "      <td>1.103261</td>\n",
       "    </tr>\n",
       "    <tr>\n",
       "      <th>46.0</th>\n",
       "      <td>175</td>\n",
       "      <td>194</td>\n",
       "      <td>19</td>\n",
       "      <td>0.902062</td>\n",
       "    </tr>\n",
       "    <tr>\n",
       "      <th>47.0</th>\n",
       "      <td>140</td>\n",
       "      <td>188</td>\n",
       "      <td>48</td>\n",
       "      <td>0.744681</td>\n",
       "    </tr>\n",
       "    <tr>\n",
       "      <th>48.0</th>\n",
       "      <td>151</td>\n",
       "      <td>136</td>\n",
       "      <td>-15</td>\n",
       "      <td>1.110294</td>\n",
       "    </tr>\n",
       "    <tr>\n",
       "      <th>49.0</th>\n",
       "      <td>151</td>\n",
       "      <td>141</td>\n",
       "      <td>-10</td>\n",
       "      <td>1.070922</td>\n",
       "    </tr>\n",
       "    <tr>\n",
       "      <th>50.0</th>\n",
       "      <td>121</td>\n",
       "      <td>114</td>\n",
       "      <td>-7</td>\n",
       "      <td>1.061404</td>\n",
       "    </tr>\n",
       "    <tr>\n",
       "      <th>51.0</th>\n",
       "      <td>95</td>\n",
       "      <td>101</td>\n",
       "      <td>6</td>\n",
       "      <td>0.940594</td>\n",
       "    </tr>\n",
       "    <tr>\n",
       "      <th>52.0</th>\n",
       "      <td>87</td>\n",
       "      <td>110</td>\n",
       "      <td>23</td>\n",
       "      <td>0.790909</td>\n",
       "    </tr>\n",
       "    <tr>\n",
       "      <th>53.0</th>\n",
       "      <td>92</td>\n",
       "      <td>82</td>\n",
       "      <td>-10</td>\n",
       "      <td>1.121951</td>\n",
       "    </tr>\n",
       "    <tr>\n",
       "      <th>54.0</th>\n",
       "      <td>83</td>\n",
       "      <td>72</td>\n",
       "      <td>-11</td>\n",
       "      <td>1.152778</td>\n",
       "    </tr>\n",
       "    <tr>\n",
       "      <th>55.0</th>\n",
       "      <td>77</td>\n",
       "      <td>56</td>\n",
       "      <td>-21</td>\n",
       "      <td>1.375000</td>\n",
       "    </tr>\n",
       "    <tr>\n",
       "      <th>56.0</th>\n",
       "      <td>74</td>\n",
       "      <td>72</td>\n",
       "      <td>-2</td>\n",
       "      <td>1.027778</td>\n",
       "    </tr>\n",
       "    <tr>\n",
       "      <th>57.0</th>\n",
       "      <td>53</td>\n",
       "      <td>59</td>\n",
       "      <td>6</td>\n",
       "      <td>0.898305</td>\n",
       "    </tr>\n",
       "  </tbody>\n",
       "</table>\n",
       "</div>"
      ],
      "text/plain": [
       "               Positives  Negatives  Diference  Ratio P/N\n",
       "TimeDelta_PCR                                            \n",
       "0.0                 9720       3448      -6272   2.819026\n",
       "1.0                13582       9471      -4111   1.434062\n",
       "2.0                20650      17671      -2979   1.168581\n",
       "3.0                26895      24872      -2023   1.081336\n",
       "4.0                32931      30476      -2455   1.080555\n",
       "5.0                36728      32726      -4002   1.122288\n",
       "6.0                38762      31534      -7228   1.229213\n",
       "7.0                39636      29156     -10480   1.359446\n",
       "8.0                38371      25475     -12896   1.506222\n",
       "9.0                34372      21478     -12894   1.600335\n",
       "10.0               31128      17558     -13570   1.772867\n",
       "11.0               26558      14277     -12281   1.860195\n",
       "12.0               22285      11578     -10707   1.924771\n",
       "13.0               18306       9406      -8900   1.946205\n",
       "14.0               15268       7899      -7369   1.932903\n",
       "15.0               12577       6780      -5797   1.855015\n",
       "16.0               10393       5977      -4416   1.738832\n",
       "17.0                8436       4960      -3476   1.700806\n",
       "18.0                6798       4151      -2647   1.637678\n",
       "19.0                5607       3460      -2147   1.620520\n",
       "20.0                4363       3005      -1358   1.451913\n",
       "21.0                3654       2535      -1119   1.441420\n",
       "22.0                2953       2162       -791   1.365865\n",
       "23.0                2320       1879       -441   1.234699\n",
       "24.0                1975       1557       -418   1.268465\n",
       "25.0                1693       1414       -279   1.197313\n",
       "26.0                1454       1214       -240   1.197694\n",
       "27.0                1187       1075       -112   1.104186\n",
       "28.0                1075        934       -141   1.150964\n",
       "29.0                 882        802        -80   1.099751\n",
       "30.0                 834        788        -46   1.058376\n",
       "31.0                 843        782        -61   1.078005\n",
       "32.0                 794        870         76   0.912644\n",
       "33.0                 727        814         87   0.893120\n",
       "34.0                 698        721         23   0.968100\n",
       "35.0                 694        686         -8   1.011662\n",
       "36.0                 546        625         79   0.873600\n",
       "37.0                 549        487        -62   1.127310\n",
       "38.0                 504        466        -38   1.081545\n",
       "39.0                 483        374       -109   1.291444\n",
       "40.0                 380        339        -41   1.120944\n",
       "41.0                 333        272        -61   1.224265\n",
       "42.0                 295        267        -28   1.104869\n",
       "43.0                 280        258        -22   1.085271\n",
       "44.0                 229        213        -16   1.075117\n",
       "45.0                 203        184        -19   1.103261\n",
       "46.0                 175        194         19   0.902062\n",
       "47.0                 140        188         48   0.744681\n",
       "48.0                 151        136        -15   1.110294\n",
       "49.0                 151        141        -10   1.070922\n",
       "50.0                 121        114         -7   1.061404\n",
       "51.0                  95        101          6   0.940594\n",
       "52.0                  87        110         23   0.790909\n",
       "53.0                  92         82        -10   1.121951\n",
       "54.0                  83         72        -11   1.152778\n",
       "55.0                  77         56        -21   1.375000\n",
       "56.0                  74         72         -2   1.027778\n",
       "57.0                  53         59          6   0.898305"
      ]
     },
     "execution_count": 144,
     "metadata": {},
     "output_type": "execute_result"
    }
   ],
   "source": [
    "df_negative = df.loc[(df['PCR_Result'] == 'Not Detectable')] # creating a dataset with only the negatives\n",
    "df_positive = df.loc[(df['PCR_Result'] == 'Detectable')] # creating a dataset with only the positives \n",
    "\n",
    "groups_neg = df_negative.groupby('TimeDelta_PCR').TimeDelta_PCR.agg(['count'])\n",
    "groups_pos = df_positive.groupby('TimeDelta_PCR').TimeDelta_PCR.agg(['count'])\n",
    "\n",
    "groups = pd.concat([groups_pos, groups_neg], axis = 1)\n",
    "group_names = ['Positives', 'Negatives']\n",
    "groups.columns = group_names\n",
    "\n",
    "diference = groups['Negatives'] - groups['Positives']\n",
    "groups['Diference'] = diference\n",
    "\n",
    "ratio = groups['Positives'] / groups['Negatives']\n",
    "groups['Ratio P/N'] = ratio\n",
    "\n",
    "groups.tail(200)"
   ]
  },
  {
   "cell_type": "code",
   "execution_count": 44,
   "id": "ca150a39",
   "metadata": {},
   "outputs": [
    {
     "data": {
      "image/png": "[encoded data removed]",
      "text/plain": [
       "<Figure size 1080x504 with 1 Axes>"
      ]
     },
     "metadata": {
      "needs_background": "light"
     },
     "output_type": "display_data"
    }
   ],
   "source": [
    "# https://seaborn.pydata.org/generated/seaborn.lineplot.html\n",
    "plt.figure(figsize = (15,7))\n",
    "sns.lineplot( x='TimeDelta_PCR', y='Diference', hue=None, size=None, style=None, data=groups,\n",
    "             palette='icefire', hue_order=None, hue_norm=None, sizes=None, size_order=None, size_norm=None, \n",
    "             dashes=True, markers=None, style_order=None, units=None, estimator='mean',\n",
    "             ci=95, n_boot=1000, seed=None, sort=True, err_style='band',\n",
    "             err_kws=None, legend='auto', ax=None)\n",
    "plt.show()"
   ]
  },
  {
   "cell_type": "markdown",
   "id": "5ff00944",
   "metadata": {},
   "source": [
    "## Over Criterium"
   ]
  },
  {
   "cell_type": "code",
   "execution_count": 45,
   "id": "1ad97d86",
   "metadata": {},
   "outputs": [
    {
     "data": {
      "image/png": "[encoded data removed]",
      "text/plain": [
       "<Figure size 1080x504 with 1 Axes>"
      ]
     },
     "metadata": {
      "needs_background": "light"
     },
     "output_type": "display_data"
    }
   ],
   "source": [
    "# https://seaborn.pydata.org/generated/seaborn.histplot.html\n",
    "#plt.figure(figsize = (15,7))\n",
    "fig, ax = plt.subplots(figsize = (15,7))\n",
    "sns.histplot(data=df, x=df['TimeDelta_PCR'], y=None, hue='Criterion', weights=None,\n",
    "                 stat='count', bins=101, binwidth=1, binrange=None,\n",
    "                 discrete=None, cumulative=False, common_bins=True, common_norm=True,\n",
    "                 multiple='layer', element='step', fill=True, shrink=1, kde=True, kde_kws=None, \n",
    "                 line_kws=None, thresh=0, pthresh=None, pmax=None, cbar=False, cbar_ax=None,\n",
    "                 cbar_kws=None, palette='icefire', hue_order=None, hue_norm=None, color= None, \n",
    "                 log_scale=None, legend=True, ax=ax)\n",
    "#ax.set_xlim(70, 700)\n",
    "#ax.set_ylim(0, 20)\n",
    "ax.set_xlim(0, 40)\n",
    "\n",
    "\n",
    "plt.show()\n",
    "# element{“bars”, “step”, “poly”}\n",
    "# multiple{“layer”, “dodge”, “stack”, “fill”}\n",
    "# palette{husl, Set2, Paired, rocket, mako, flare, crest, magma, viridis, rocket_r, cubehelix, icefire}"
   ]
  },
  {
   "cell_type": "markdown",
   "id": "d31c270d",
   "metadata": {},
   "source": [
    "> Laboratorial is the main Criterion adopted"
   ]
  },
  {
   "cell_type": "code",
   "execution_count": 145,
   "id": "fc876b17",
   "metadata": {},
   "outputs": [
    {
     "data": {
      "text/plain": [
       "array(['Laboratory', 'Ignored', 'Clinical Image', 'Clinical',\n",
       "       'Epidemiological'], dtype=object)"
      ]
     },
     "execution_count": 145,
     "metadata": {},
     "output_type": "execute_result"
    }
   ],
   "source": [
    "df['Criterion'].unique()"
   ]
  },
  {
   "cell_type": "code",
   "execution_count": 146,
   "id": "23dafec2",
   "metadata": {},
   "outputs": [
    {
     "name": "stdout",
     "output_type": "stream",
     "text": [
      "784435\n",
      "34216 rejected\n"
     ]
    }
   ],
   "source": [
    "var1 = 'Laboratory'\n",
    "df = df.query('Criterion == @var1')\n",
    "\n",
    "n_tuples_6 = df.shape[0]\n",
    "print(n_tuples_6)\n",
    "print(f'{n_tuples_5 - n_tuples_6} rejected')"
   ]
  },
  {
   "cell_type": "code",
   "execution_count": 147,
   "id": "f7b3eaca",
   "metadata": {},
   "outputs": [],
   "source": [
    "df.drop('Criterion', axis=1, inplace=True) # do not need it anymore"
   ]
  },
  {
   "cell_type": "code",
   "execution_count": 148,
   "id": "e05c13d2",
   "metadata": {},
   "outputs": [],
   "source": [
    "df.drop('X_Ray_Result', axis=1, inplace=True)\n",
    "df.drop('X_Ray_Date', axis=1, inplace=True)"
   ]
  },
  {
   "cell_type": "markdown",
   "id": "de5c10b1",
   "metadata": {},
   "source": [
    "# Observing PCR result by Age"
   ]
  },
  {
   "cell_type": "code",
   "execution_count": 50,
   "id": "9be9d82e",
   "metadata": {},
   "outputs": [
    {
     "data": {
      "image/png": "[encoded data removed]",
      "text/plain": [
       "<Figure size 1080x504 with 1 Axes>"
      ]
     },
     "metadata": {
      "needs_background": "light"
     },
     "output_type": "display_data"
    }
   ],
   "source": [
    "# https://seaborn.pydata.org/generated/seaborn.histplot.html\n",
    "plt.figure(figsize = (15,7))\n",
    "sns.histplot(data=df, x=df['Age'], y=None, hue='PCR_Result', weights=None,\n",
    "                 stat='count', bins=101, binwidth=1, binrange=None,\n",
    "                 discrete=None, cumulative=False, common_bins=True, common_norm=True,\n",
    "                 multiple='layer', element='step', fill=True, shrink=1, kde=True, kde_kws=None, \n",
    "                 line_kws=None, thresh=0, pthresh=None, pmax=None, cbar=False, cbar_ax=None,\n",
    "                 cbar_kws=None, palette='Paired', hue_order=None, hue_norm=None, color= None, \n",
    "                 log_scale=None, legend=True, ax=None)\n",
    "plt.show()\n",
    "# element{“bars”, “step”, “poly”}\n",
    "# multiple{“layer”, “dodge”, “stack”, “fill”}\n",
    "# palette{husl, Set2, Paired, rocket, mako, flare, crest, magma, viridis, rocket_r, cubehelix, icefire}"
   ]
  },
  {
   "cell_type": "code",
   "execution_count": 149,
   "id": "616f5ad9",
   "metadata": {},
   "outputs": [
    {
     "data": {
      "text/plain": [
       "-0.701753171109699"
      ]
     },
     "execution_count": 149,
     "metadata": {},
     "output_type": "execute_result"
    }
   ],
   "source": [
    "from scipy.stats import skew\n",
    "skew(df['Age'])"
   ]
  },
  {
   "cell_type": "code",
   "execution_count": 150,
   "id": "3e6ae150",
   "metadata": {},
   "outputs": [],
   "source": [
    "df_negative = df.loc[(df['PCR_Result'] == 'Not Detectable')] # creating a dataset with only the negatives\n",
    "df_positive = df.loc[(df['PCR_Result'] == 'Detectable')] # creating a dataset with only the positives  "
   ]
  },
  {
   "cell_type": "code",
   "execution_count": 151,
   "id": "3f5d47bf",
   "metadata": {},
   "outputs": [
    {
     "name": "stdout",
     "output_type": "stream",
     "text": [
      "-0.5449851484212251\n",
      "-0.5217373299536474\n"
     ]
    }
   ],
   "source": [
    "print(skew(df_negative['Age']))\n",
    "print(skew(df_positive['Age']))"
   ]
  },
  {
   "cell_type": "code",
   "execution_count": null,
   "id": "eab6d822",
   "metadata": {},
   "outputs": [],
   "source": []
  },
  {
   "cell_type": "code",
   "execution_count": 152,
   "id": "d69751dc",
   "metadata": {},
   "outputs": [],
   "source": [
    "groups_neg = df_negative.groupby('Age').Age.agg(['count'])\n",
    "groups_pos = df_positive.groupby('Age').Age.agg(['count'])"
   ]
  },
  {
   "cell_type": "code",
   "execution_count": 153,
   "id": "0da7d963",
   "metadata": {},
   "outputs": [
    {
     "data": {
      "text/html": [
       "<div>\n",
       "<style scoped>\n",
       "    .dataframe tbody tr th:only-of-type {\n",
       "        vertical-align: middle;\n",
       "    }\n",
       "\n",
       "    .dataframe tbody tr th {\n",
       "        vertical-align: top;\n",
       "    }\n",
       "\n",
       "    .dataframe thead th {\n",
       "        text-align: right;\n",
       "    }\n",
       "</style>\n",
       "<table border=\"1\" class=\"dataframe\">\n",
       "  <thead>\n",
       "    <tr style=\"text-align: right;\">\n",
       "      <th></th>\n",
       "      <th>Positives</th>\n",
       "      <th>Negatives</th>\n",
       "      <th>Diference</th>\n",
       "      <th>Ratio P/N</th>\n",
       "    </tr>\n",
       "    <tr>\n",
       "      <th>Age</th>\n",
       "      <th></th>\n",
       "      <th></th>\n",
       "      <th></th>\n",
       "      <th></th>\n",
       "    </tr>\n",
       "  </thead>\n",
       "  <tbody>\n",
       "    <tr>\n",
       "      <th>0.0</th>\n",
       "      <td>2161</td>\n",
       "      <td>7907</td>\n",
       "      <td>5746</td>\n",
       "      <td>0.273302</td>\n",
       "    </tr>\n",
       "    <tr>\n",
       "      <th>1.0</th>\n",
       "      <td>1809</td>\n",
       "      <td>7588</td>\n",
       "      <td>5779</td>\n",
       "      <td>0.238403</td>\n",
       "    </tr>\n",
       "    <tr>\n",
       "      <th>2.0</th>\n",
       "      <td>1004</td>\n",
       "      <td>4721</td>\n",
       "      <td>3717</td>\n",
       "      <td>0.212667</td>\n",
       "    </tr>\n",
       "    <tr>\n",
       "      <th>3.0</th>\n",
       "      <td>675</td>\n",
       "      <td>3791</td>\n",
       "      <td>3116</td>\n",
       "      <td>0.178053</td>\n",
       "    </tr>\n",
       "    <tr>\n",
       "      <th>4.0</th>\n",
       "      <td>487</td>\n",
       "      <td>3022</td>\n",
       "      <td>2535</td>\n",
       "      <td>0.161152</td>\n",
       "    </tr>\n",
       "    <tr>\n",
       "      <th>...</th>\n",
       "      <td>...</td>\n",
       "      <td>...</td>\n",
       "      <td>...</td>\n",
       "      <td>...</td>\n",
       "    </tr>\n",
       "    <tr>\n",
       "      <th>95.0</th>\n",
       "      <td>1218</td>\n",
       "      <td>1182</td>\n",
       "      <td>-36</td>\n",
       "      <td>1.030457</td>\n",
       "    </tr>\n",
       "    <tr>\n",
       "      <th>96.0</th>\n",
       "      <td>956</td>\n",
       "      <td>869</td>\n",
       "      <td>-87</td>\n",
       "      <td>1.100115</td>\n",
       "    </tr>\n",
       "    <tr>\n",
       "      <th>97.0</th>\n",
       "      <td>662</td>\n",
       "      <td>664</td>\n",
       "      <td>2</td>\n",
       "      <td>0.996988</td>\n",
       "    </tr>\n",
       "    <tr>\n",
       "      <th>98.0</th>\n",
       "      <td>476</td>\n",
       "      <td>492</td>\n",
       "      <td>16</td>\n",
       "      <td>0.967480</td>\n",
       "    </tr>\n",
       "    <tr>\n",
       "      <th>99.0</th>\n",
       "      <td>327</td>\n",
       "      <td>313</td>\n",
       "      <td>-14</td>\n",
       "      <td>1.044728</td>\n",
       "    </tr>\n",
       "  </tbody>\n",
       "</table>\n",
       "<p>100 rows × 4 columns</p>\n",
       "</div>"
      ],
      "text/plain": [
       "      Positives  Negatives  Diference  Ratio P/N\n",
       "Age                                             \n",
       "0.0        2161       7907       5746   0.273302\n",
       "1.0        1809       7588       5779   0.238403\n",
       "2.0        1004       4721       3717   0.212667\n",
       "3.0         675       3791       3116   0.178053\n",
       "4.0         487       3022       2535   0.161152\n",
       "...         ...        ...        ...        ...\n",
       "95.0       1218       1182        -36   1.030457\n",
       "96.0        956        869        -87   1.100115\n",
       "97.0        662        664          2   0.996988\n",
       "98.0        476        492         16   0.967480\n",
       "99.0        327        313        -14   1.044728\n",
       "\n",
       "[100 rows x 4 columns]"
      ]
     },
     "execution_count": 153,
     "metadata": {},
     "output_type": "execute_result"
    }
   ],
   "source": [
    "groups = pd.concat([groups_pos, groups_neg], axis = 1)\n",
    "group_names = ['Positives', 'Negatives']\n",
    "groups.columns = group_names\n",
    "\n",
    "diference = groups['Negatives'] - groups['Positives']\n",
    "groups['Diference'] = diference\n",
    "\n",
    "ratio = groups['Positives'] / groups['Negatives']\n",
    "groups['Ratio P/N'] = ratio\n",
    "\n",
    "groups"
   ]
  },
  {
   "cell_type": "code",
   "execution_count": 154,
   "id": "f0b13350",
   "metadata": {},
   "outputs": [
    {
     "data": {
      "text/plain": [
       "array([[ 1.        , -0.49096208],\n",
       "       [-0.49096208,  1.        ]])"
      ]
     },
     "execution_count": 154,
     "metadata": {},
     "output_type": "execute_result"
    }
   ],
   "source": [
    "np.corrcoef(diference,np.sort(df['Age'].unique()))"
   ]
  },
  {
   "cell_type": "code",
   "execution_count": 57,
   "id": "c9c824e8",
   "metadata": {},
   "outputs": [
    {
     "data": {
      "image/png": "[encoded data removed]",
      "text/plain": [
       "<Figure size 1080x504 with 1 Axes>"
      ]
     },
     "metadata": {
      "needs_background": "light"
     },
     "output_type": "display_data"
    }
   ],
   "source": [
    "# https://seaborn.pydata.org/generated/seaborn.lineplot.html\n",
    "plt.figure(figsize = (15,7))\n",
    "sns.lineplot( x='Age', y='Diference', hue=None, size=None, style=None, data=groups,\n",
    "             palette='icefire', hue_order=None, hue_norm=None, sizes=None, size_order=None, size_norm=None, \n",
    "             dashes=True, markers=None, style_order=None, units=None, estimator='mean',\n",
    "             ci=95, n_boot=1000, seed=None, sort=True, err_style='band',\n",
    "             err_kws=None, legend='auto', ax=None)\n",
    "plt.show()"
   ]
  },
  {
   "cell_type": "markdown",
   "id": "117dec99",
   "metadata": {},
   "source": [
    "# Observing PCR evolution by Age"
   ]
  },
  {
   "cell_type": "code",
   "execution_count": 58,
   "id": "6270e020",
   "metadata": {},
   "outputs": [
    {
     "data": {
      "image/png": "[encoded data removed]",
      "text/plain": [
       "<Figure size 1080x504 with 1 Axes>"
      ]
     },
     "metadata": {
      "needs_background": "light"
     },
     "output_type": "display_data"
    }
   ],
   "source": [
    "# https://seaborn.pydata.org/generated/seaborn.histplot.html\n",
    "plt.figure(figsize = (15,7))\n",
    "sns.histplot(data=df, x=df['Age'], y=None, hue='Evolution', weights=None,\n",
    "                 stat='count', bins=101, binwidth=1, binrange=None,\n",
    "                 discrete=None, cumulative=False, common_bins=True, common_norm=True,\n",
    "                 multiple='layer', element='step', fill=True, shrink=1, kde=True, kde_kws=None, \n",
    "                 line_kws=None, thresh=0, pthresh=None, pmax=None, cbar=False, cbar_ax=None,\n",
    "                 cbar_kws=None, palette='Paired', hue_order=None, hue_norm=None, color= None, \n",
    "                 log_scale=None, legend=True, ax=None)\n",
    "plt.show()\n",
    "# element{“bars”, “step”, “poly”}\n",
    "# multiple{“layer”, “dodge”, “stack”, “fill”}\n",
    "# palette{husl, Set2, Paired, rocket, mako, flare, crest, magma, viridis, rocket_r, cubehelix, icefire}"
   ]
  },
  {
   "cell_type": "code",
   "execution_count": 155,
   "id": "cfa28f05",
   "metadata": {},
   "outputs": [],
   "source": [
    "df_negative = df.loc[(df['Evolution'] == 'Death')] # creating a dataset with only the negatives\n",
    "df_positive = df.loc[(df['Evolution'] == 'Cure')] # creating a dataset with only the positives  "
   ]
  },
  {
   "cell_type": "code",
   "execution_count": 156,
   "id": "e77a1502",
   "metadata": {},
   "outputs": [
    {
     "name": "stdout",
     "output_type": "stream",
     "text": [
      "-0.9743850622541579\n",
      "-0.5362916147129733\n"
     ]
    }
   ],
   "source": [
    "print(skew(df_negative['Age']))\n",
    "print(skew(df_positive['Age']))"
   ]
  },
  {
   "cell_type": "code",
   "execution_count": null,
   "id": "a49a61a1",
   "metadata": {},
   "outputs": [],
   "source": []
  },
  {
   "cell_type": "code",
   "execution_count": 157,
   "id": "dd121123",
   "metadata": {},
   "outputs": [
    {
     "data": {
      "text/html": [
       "<div>\n",
       "<style scoped>\n",
       "    .dataframe tbody tr th:only-of-type {\n",
       "        vertical-align: middle;\n",
       "    }\n",
       "\n",
       "    .dataframe tbody tr th {\n",
       "        vertical-align: top;\n",
       "    }\n",
       "\n",
       "    .dataframe thead th {\n",
       "        text-align: right;\n",
       "    }\n",
       "</style>\n",
       "<table border=\"1\" class=\"dataframe\">\n",
       "  <thead>\n",
       "    <tr style=\"text-align: right;\">\n",
       "      <th></th>\n",
       "      <th>Positives</th>\n",
       "      <th>Negatives</th>\n",
       "      <th>Diference</th>\n",
       "      <th>Ratio P/N</th>\n",
       "    </tr>\n",
       "    <tr>\n",
       "      <th>Age</th>\n",
       "      <th></th>\n",
       "      <th></th>\n",
       "      <th></th>\n",
       "      <th></th>\n",
       "    </tr>\n",
       "  </thead>\n",
       "  <tbody>\n",
       "    <tr>\n",
       "      <th>0.0</th>\n",
       "      <td>9441</td>\n",
       "      <td>627</td>\n",
       "      <td>-8814</td>\n",
       "      <td>15.057416</td>\n",
       "    </tr>\n",
       "    <tr>\n",
       "      <th>1.0</th>\n",
       "      <td>9051</td>\n",
       "      <td>346</td>\n",
       "      <td>-8705</td>\n",
       "      <td>26.158960</td>\n",
       "    </tr>\n",
       "    <tr>\n",
       "      <th>2.0</th>\n",
       "      <td>5579</td>\n",
       "      <td>146</td>\n",
       "      <td>-5433</td>\n",
       "      <td>38.212329</td>\n",
       "    </tr>\n",
       "    <tr>\n",
       "      <th>3.0</th>\n",
       "      <td>4365</td>\n",
       "      <td>101</td>\n",
       "      <td>-4264</td>\n",
       "      <td>43.217822</td>\n",
       "    </tr>\n",
       "    <tr>\n",
       "      <th>4.0</th>\n",
       "      <td>3459</td>\n",
       "      <td>50</td>\n",
       "      <td>-3409</td>\n",
       "      <td>69.180000</td>\n",
       "    </tr>\n",
       "    <tr>\n",
       "      <th>...</th>\n",
       "      <td>...</td>\n",
       "      <td>...</td>\n",
       "      <td>...</td>\n",
       "      <td>...</td>\n",
       "    </tr>\n",
       "    <tr>\n",
       "      <th>95.0</th>\n",
       "      <td>1018</td>\n",
       "      <td>1382</td>\n",
       "      <td>364</td>\n",
       "      <td>0.736614</td>\n",
       "    </tr>\n",
       "    <tr>\n",
       "      <th>96.0</th>\n",
       "      <td>736</td>\n",
       "      <td>1089</td>\n",
       "      <td>353</td>\n",
       "      <td>0.675849</td>\n",
       "    </tr>\n",
       "    <tr>\n",
       "      <th>97.0</th>\n",
       "      <td>554</td>\n",
       "      <td>772</td>\n",
       "      <td>218</td>\n",
       "      <td>0.717617</td>\n",
       "    </tr>\n",
       "    <tr>\n",
       "      <th>98.0</th>\n",
       "      <td>376</td>\n",
       "      <td>592</td>\n",
       "      <td>216</td>\n",
       "      <td>0.635135</td>\n",
       "    </tr>\n",
       "    <tr>\n",
       "      <th>99.0</th>\n",
       "      <td>260</td>\n",
       "      <td>380</td>\n",
       "      <td>120</td>\n",
       "      <td>0.684211</td>\n",
       "    </tr>\n",
       "  </tbody>\n",
       "</table>\n",
       "<p>100 rows × 4 columns</p>\n",
       "</div>"
      ],
      "text/plain": [
       "      Positives  Negatives  Diference  Ratio P/N\n",
       "Age                                             \n",
       "0.0        9441        627      -8814  15.057416\n",
       "1.0        9051        346      -8705  26.158960\n",
       "2.0        5579        146      -5433  38.212329\n",
       "3.0        4365        101      -4264  43.217822\n",
       "4.0        3459         50      -3409  69.180000\n",
       "...         ...        ...        ...        ...\n",
       "95.0       1018       1382        364   0.736614\n",
       "96.0        736       1089        353   0.675849\n",
       "97.0        554        772        218   0.717617\n",
       "98.0        376        592        216   0.635135\n",
       "99.0        260        380        120   0.684211\n",
       "\n",
       "[100 rows x 4 columns]"
      ]
     },
     "execution_count": 157,
     "metadata": {},
     "output_type": "execute_result"
    }
   ],
   "source": [
    "groups_neg = df_negative.groupby('Age').Age.agg(['count'])\n",
    "groups_pos = df_positive.groupby('Age').Age.agg(['count'])\n",
    "\n",
    "groups = pd.concat([groups_pos, groups_neg], axis = 1)\n",
    "group_names = ['Positives', 'Negatives']\n",
    "groups.columns = group_names\n",
    "\n",
    "diference = groups['Negatives'] - groups['Positives']\n",
    "groups['Diference'] = diference\n",
    "\n",
    "ratio = groups['Positives'] / groups['Negatives']\n",
    "groups['Ratio P/N'] = ratio\n",
    "\n",
    "groups"
   ]
  },
  {
   "cell_type": "code",
   "execution_count": 158,
   "id": "049714d3",
   "metadata": {},
   "outputs": [
    {
     "data": {
      "text/plain": [
       "array([[1.        , 0.34564899],\n",
       "       [0.34564899, 1.        ]])"
      ]
     },
     "execution_count": 158,
     "metadata": {},
     "output_type": "execute_result"
    }
   ],
   "source": [
    "np.corrcoef(diference,np.sort(df['Age'].unique()))"
   ]
  },
  {
   "cell_type": "code",
   "execution_count": 63,
   "id": "9ad914c7",
   "metadata": {},
   "outputs": [
    {
     "data": {
      "image/png": "[encoded data removed]",
      "text/plain": [
       "<Figure size 1080x504 with 1 Axes>"
      ]
     },
     "metadata": {
      "needs_background": "light"
     },
     "output_type": "display_data"
    }
   ],
   "source": [
    "# https://seaborn.pydata.org/generated/seaborn.lineplot.html\n",
    "plt.figure(figsize = (15,7))\n",
    "sns.lineplot( x='Age', y='Diference', hue=None, size=None, style=None, data=groups,\n",
    "             palette='icefire', hue_order=None, hue_norm=None, sizes=None, size_order=None, size_norm=None, \n",
    "             dashes=True, markers=None, style_order=None, units=None, estimator='mean',\n",
    "             ci=95, n_boot=1000, seed=None, sort=True, err_style='band',\n",
    "             err_kws=None, legend='auto', ax=None)\n",
    "plt.show()"
   ]
  },
  {
   "cell_type": "markdown",
   "id": "6286e942",
   "metadata": {},
   "source": [
    "# By hospital"
   ]
  },
  {
   "cell_type": "code",
   "execution_count": 159,
   "id": "2b637062",
   "metadata": {},
   "outputs": [
    {
     "data": {
      "text/plain": [
       "5473"
      ]
     },
     "execution_count": 159,
     "metadata": {},
     "output_type": "execute_result"
    }
   ],
   "source": [
    "df['Health_Unit'].nunique()"
   ]
  },
  {
   "cell_type": "code",
   "execution_count": 160,
   "id": "20e01c63",
   "metadata": {},
   "outputs": [
    {
     "data": {
      "text/plain": [
       "array(['HOSPITAL MATERNO INFANTIL DR ANTONIO LISBOA',\n",
       "       'HIAS HOSPITAL INFANTIL ALBERT SABIN',\n",
       "       'HOSPITAL E MATERNIDADE MUNICIPAL N S DO MONTE SERRAT', ...,\n",
       "       'CENTRO DE SAUDE PINHEIRA',\n",
       "       'HOSPITAL MILITAR DE AREA DE CAMPO GRANDE',\n",
       "       'CENTRAL DE VIGILANCIA EM SAUDE'], dtype=object)"
      ]
     },
     "execution_count": 160,
     "metadata": {},
     "output_type": "execute_result"
    }
   ],
   "source": [
    "df['Health_Unit'].unique()"
   ]
  },
  {
   "cell_type": "code",
   "execution_count": null,
   "id": "5961902d",
   "metadata": {},
   "outputs": [],
   "source": []
  },
  {
   "cell_type": "code",
   "execution_count": 161,
   "id": "f0d81c93",
   "metadata": {},
   "outputs": [],
   "source": [
    "lista_hospital = []\n",
    "\n",
    "for v in df['Health_Unit']:\n",
    "    if \"HOSPITAL\" in v:\n",
    "        lista_hospital.append('1')\n",
    "    elif \"HOSPITALAR\" in v:\n",
    "        lista_hospital.append('1')\n",
    "    elif \"SPA\" in v:\n",
    "        lista_hospital.append('1')\n",
    "    elif \"SANTA CASA\" in v:\n",
    "        lista_hospital.append('1')\n",
    "    elif \"UPA\" in v:\n",
    "        lista_hospital.append('1')\n",
    "    elif \"UBS\" in v:\n",
    "        lista_hospital.append('0')\n",
    "    else:\n",
    "        lista_hospital.append('0')\n",
    "\n",
    "df['Hospital'] = lista_hospital"
   ]
  },
  {
   "cell_type": "code",
   "execution_count": 162,
   "id": "fdf4ab44",
   "metadata": {},
   "outputs": [
    {
     "name": "stdout",
     "output_type": "stream",
     "text": [
      "626567\n",
      "157868\n"
     ]
    }
   ],
   "source": [
    "print(df[df['Hospital'] == '1'].shape[0])\n",
    "print(df[df['Hospital'] == '0'].shape[0])"
   ]
  },
  {
   "cell_type": "code",
   "execution_count": 163,
   "id": "e8430b89",
   "metadata": {},
   "outputs": [],
   "source": [
    "df_negative = df.loc[(df['PCR_Result'] == 'Not Detectable')] # creating a dataset with only the negatives\n",
    "df_positive = df.loc[(df['PCR_Result'] == 'Detectable')] # creating a dataset with only the positives \n",
    "\n",
    "groups_neg = df_negative.groupby('Hospital').TimeDelta_PCR.agg(['count'])\n",
    "groups_pos = df_positive.groupby('Hospital').TimeDelta_PCR.agg(['count'])"
   ]
  },
  {
   "cell_type": "code",
   "execution_count": 164,
   "id": "81f38de3",
   "metadata": {},
   "outputs": [
    {
     "data": {
      "text/html": [
       "<div>\n",
       "<style scoped>\n",
       "    .dataframe tbody tr th:only-of-type {\n",
       "        vertical-align: middle;\n",
       "    }\n",
       "\n",
       "    .dataframe tbody tr th {\n",
       "        vertical-align: top;\n",
       "    }\n",
       "\n",
       "    .dataframe thead th {\n",
       "        text-align: right;\n",
       "    }\n",
       "</style>\n",
       "<table border=\"1\" class=\"dataframe\">\n",
       "  <thead>\n",
       "    <tr style=\"text-align: right;\">\n",
       "      <th></th>\n",
       "      <th>Positives</th>\n",
       "      <th>Negatives</th>\n",
       "      <th>Diference</th>\n",
       "      <th>Ratio P/N</th>\n",
       "    </tr>\n",
       "    <tr>\n",
       "      <th>Hospital</th>\n",
       "      <th></th>\n",
       "      <th></th>\n",
       "      <th></th>\n",
       "      <th></th>\n",
       "    </tr>\n",
       "  </thead>\n",
       "  <tbody>\n",
       "    <tr>\n",
       "      <th>0</th>\n",
       "      <td>96291</td>\n",
       "      <td>61577</td>\n",
       "      <td>-34714</td>\n",
       "      <td>1.563749</td>\n",
       "    </tr>\n",
       "    <tr>\n",
       "      <th>1</th>\n",
       "      <td>378202</td>\n",
       "      <td>248365</td>\n",
       "      <td>-129837</td>\n",
       "      <td>1.522767</td>\n",
       "    </tr>\n",
       "  </tbody>\n",
       "</table>\n",
       "</div>"
      ],
      "text/plain": [
       "          Positives  Negatives  Diference  Ratio P/N\n",
       "Hospital                                            \n",
       "0             96291      61577     -34714   1.563749\n",
       "1            378202     248365    -129837   1.522767"
      ]
     },
     "execution_count": 164,
     "metadata": {},
     "output_type": "execute_result"
    }
   ],
   "source": [
    "groups = pd.concat([groups_pos, groups_neg], axis = 1)\n",
    "group_names = ['Positives', 'Negatives']\n",
    "groups.columns = group_names\n",
    "\n",
    "diference = groups['Negatives'] - groups['Positives']\n",
    "groups['Diference'] = diference\n",
    "\n",
    "ratio = groups['Positives'] / groups['Negatives']\n",
    "groups['Ratio P/N'] = ratio\n",
    "\n",
    "groups"
   ]
  },
  {
   "cell_type": "markdown",
   "id": "3a4a9e7f",
   "metadata": {},
   "source": [
    "> No proportional diference over Hospital and Clinics"
   ]
  },
  {
   "cell_type": "code",
   "execution_count": 165,
   "id": "f518c811",
   "metadata": {},
   "outputs": [
    {
     "data": {
      "text/plain": [
       "784435"
      ]
     },
     "execution_count": 165,
     "metadata": {},
     "output_type": "execute_result"
    }
   ],
   "source": [
    "df['Hospital'].count()"
   ]
  },
  {
   "cell_type": "code",
   "execution_count": 71,
   "id": "10393246",
   "metadata": {},
   "outputs": [
    {
     "data": {
      "image/png": "[encoded data removed]",
      "text/plain": [
       "<Figure size 504x360 with 1 Axes>"
      ]
     },
     "metadata": {
      "needs_background": "light"
     },
     "output_type": "display_data"
    }
   ],
   "source": [
    "plt.figure(figsize = (7,5))\n",
    "sns.countplot(x='Hospital', hue='PCR_Result', data = df, palette='flare')\n",
    "plt.show()"
   ]
  },
  {
   "cell_type": "code",
   "execution_count": 72,
   "id": "a51e5177",
   "metadata": {},
   "outputs": [
    {
     "data": {
      "image/png": "[encoded data removed]",
      "text/plain": [
       "<Figure size 504x360 with 1 Axes>"
      ]
     },
     "metadata": {
      "needs_background": "light"
     },
     "output_type": "display_data"
    }
   ],
   "source": [
    "plt.figure(figsize = (7,5))\n",
    "sns.countplot(x='Hospital', hue='Evolution', data = df, palette='flare')\n",
    "plt.show()"
   ]
  },
  {
   "cell_type": "code",
   "execution_count": 166,
   "id": "38af480a",
   "metadata": {},
   "outputs": [],
   "source": [
    "df.drop('Hospital', axis=1, inplace=True)\n",
    "df.drop('Health_Unit', axis=1, inplace=True)"
   ]
  },
  {
   "cell_type": "markdown",
   "id": "7cb8c8fe",
   "metadata": {},
   "source": [
    "# By State"
   ]
  },
  {
   "cell_type": "code",
   "execution_count": 167,
   "id": "cb48dbde",
   "metadata": {},
   "outputs": [
    {
     "data": {
      "text/plain": [
       "27"
      ]
     },
     "execution_count": 167,
     "metadata": {},
     "output_type": "execute_result"
    }
   ],
   "source": [
    "df['State'].nunique()"
   ]
  },
  {
   "cell_type": "code",
   "execution_count": 168,
   "id": "0ffd93e4",
   "metadata": {},
   "outputs": [
    {
     "data": {
      "text/plain": [
       "array(['DF', 'CE', 'SP', 'PR', 'MG', 'RJ', 'RS', 'MA', 'RO', 'BA', 'PE',\n",
       "       'PI', 'ES', 'MT', 'SC', 'RN', 'PB', 'AM', 'GO', 'AL', 'MS', 'AC',\n",
       "       'PA', 'SE', 'RR', 'TO', 'AP'], dtype=object)"
      ]
     },
     "execution_count": 168,
     "metadata": {},
     "output_type": "execute_result"
    }
   ],
   "source": [
    "df['State'].unique()"
   ]
  },
  {
   "cell_type": "code",
   "execution_count": 169,
   "id": "76837137",
   "metadata": {},
   "outputs": [
    {
     "data": {
      "image/png": "[encoded data removed]",
      "text/plain": [
       "<Figure size 2000x500 with 1 Axes>"
      ]
     },
     "metadata": {},
     "output_type": "display_data"
    }
   ],
   "source": [
    "plt.figure(figsize = (20,5))\n",
    "sns.countplot(x='State', hue='PCR_Result', data = df, palette='flare')\n",
    "plt.show()"
   ]
  },
  {
   "cell_type": "code",
   "execution_count": 170,
   "id": "34f9ba44",
   "metadata": {},
   "outputs": [
    {
     "data": {
      "image/png": "[encoded data removed]",
      "text/plain": [
       "<Figure size 2000x500 with 1 Axes>"
      ]
     },
     "metadata": {},
     "output_type": "display_data"
    }
   ],
   "source": [
    "plt.figure(figsize = (20,5))\n",
    "sns.countplot(x='State', hue='Evolution', data = df, palette='flare')\n",
    "plt.show()"
   ]
  },
  {
   "cell_type": "code",
   "execution_count": 171,
   "id": "69b11aa1",
   "metadata": {},
   "outputs": [],
   "source": [
    "df.drop('County_ID', axis=1, inplace=True) # same as State"
   ]
  },
  {
   "cell_type": "markdown",
   "id": "74acd581",
   "metadata": {},
   "source": [
    "# By Poultry_Swine"
   ]
  },
  {
   "cell_type": "code",
   "execution_count": 79,
   "id": "bcfbc434",
   "metadata": {},
   "outputs": [
    {
     "data": {
      "image/png": "[encoded data removed]",
      "text/plain": [
       "<Figure size 504x360 with 1 Axes>"
      ]
     },
     "metadata": {
      "needs_background": "light"
     },
     "output_type": "display_data"
    }
   ],
   "source": [
    "plt.figure(figsize = (7,5))\n",
    "sns.countplot(x='Poultry_Swine', hue='PCR_Result', data = df, palette='flare')\n",
    "plt.show()"
   ]
  },
  {
   "cell_type": "code",
   "execution_count": 80,
   "id": "116be0b7",
   "metadata": {},
   "outputs": [
    {
     "data": {
      "image/png": "[encoded data removed]",
      "text/plain": [
       "<Figure size 504x360 with 1 Axes>"
      ]
     },
     "metadata": {
      "needs_background": "light"
     },
     "output_type": "display_data"
    }
   ],
   "source": [
    "plt.figure(figsize = (7,5))\n",
    "sns.countplot(x='Poultry_Swine', hue='Evolution', data = df, palette='flare')\n",
    "plt.show()"
   ]
  },
  {
   "cell_type": "code",
   "execution_count": 172,
   "id": "5ff26563",
   "metadata": {},
   "outputs": [],
   "source": [
    "df.drop('Poultry_Swine', axis=1, inplace=True)"
   ]
  },
  {
   "cell_type": "markdown",
   "id": "4998666b",
   "metadata": {},
   "source": [
    "# By Antiviral"
   ]
  },
  {
   "cell_type": "code",
   "execution_count": 82,
   "id": "7d98c62a",
   "metadata": {},
   "outputs": [
    {
     "data": {
      "image/png": "[encoded data removed]",
      "text/plain": [
       "<Figure size 504x360 with 1 Axes>"
      ]
     },
     "metadata": {
      "needs_background": "light"
     },
     "output_type": "display_data"
    }
   ],
   "source": [
    "plt.figure(figsize = (7,5))\n",
    "sns.countplot(x='Antiviral', hue='PCR_Result', data = df, palette='flare')\n",
    "plt.show()"
   ]
  },
  {
   "cell_type": "code",
   "execution_count": 83,
   "id": "e503761d",
   "metadata": {},
   "outputs": [
    {
     "data": {
      "image/png": "[encoded data removed]",
      "text/plain": [
       "<Figure size 504x360 with 1 Axes>"
      ]
     },
     "metadata": {
      "needs_background": "light"
     },
     "output_type": "display_data"
    }
   ],
   "source": [
    "plt.figure(figsize = (7,5))\n",
    "sns.countplot(x='Antiviral', hue='Evolution', data = df, palette='flare')\n",
    "plt.show()"
   ]
  },
  {
   "cell_type": "code",
   "execution_count": 173,
   "id": "10e510e8",
   "metadata": {},
   "outputs": [
    {
     "data": {
      "text/html": [
       "<div>\n",
       "<style scoped>\n",
       "    .dataframe tbody tr th:only-of-type {\n",
       "        vertical-align: middle;\n",
       "    }\n",
       "\n",
       "    .dataframe tbody tr th {\n",
       "        vertical-align: top;\n",
       "    }\n",
       "\n",
       "    .dataframe thead th {\n",
       "        text-align: right;\n",
       "    }\n",
       "</style>\n",
       "<table border=\"1\" class=\"dataframe\">\n",
       "  <thead>\n",
       "    <tr style=\"text-align: right;\">\n",
       "      <th></th>\n",
       "      <th>Positives</th>\n",
       "      <th>Negatives</th>\n",
       "      <th>Diference</th>\n",
       "      <th>Ratio P/N</th>\n",
       "    </tr>\n",
       "    <tr>\n",
       "      <th>Antiviral</th>\n",
       "      <th></th>\n",
       "      <th></th>\n",
       "      <th></th>\n",
       "      <th></th>\n",
       "    </tr>\n",
       "  </thead>\n",
       "  <tbody>\n",
       "    <tr>\n",
       "      <th>0</th>\n",
       "      <td>267746</td>\n",
       "      <td>187730</td>\n",
       "      <td>-80016</td>\n",
       "      <td>1.426229</td>\n",
       "    </tr>\n",
       "    <tr>\n",
       "      <th>1</th>\n",
       "      <td>79698</td>\n",
       "      <td>56787</td>\n",
       "      <td>-22911</td>\n",
       "      <td>1.403455</td>\n",
       "    </tr>\n",
       "    <tr>\n",
       "      <th>Ignored</th>\n",
       "      <td>127049</td>\n",
       "      <td>65425</td>\n",
       "      <td>-61624</td>\n",
       "      <td>1.941903</td>\n",
       "    </tr>\n",
       "  </tbody>\n",
       "</table>\n",
       "</div>"
      ],
      "text/plain": [
       "           Positives  Negatives  Diference  Ratio P/N\n",
       "Antiviral                                            \n",
       "0             267746     187730     -80016   1.426229\n",
       "1              79698      56787     -22911   1.403455\n",
       "Ignored       127049      65425     -61624   1.941903"
      ]
     },
     "execution_count": 173,
     "metadata": {},
     "output_type": "execute_result"
    }
   ],
   "source": [
    "df_negative = df.loc[(df['PCR_Result'] == 'Not Detectable')] # creating a dataset with only the negatives\n",
    "df_positive = df.loc[(df['PCR_Result'] == 'Detectable')] # creating a dataset with only the positives \n",
    "\n",
    "groups_neg = df_negative.groupby('Antiviral').Antiviral.agg(['count'])\n",
    "groups_pos = df_positive.groupby('Antiviral').Antiviral.agg(['count'])\n",
    "\n",
    "groups = pd.concat([groups_pos, groups_neg], axis = 1)\n",
    "group_names = ['Positives', 'Negatives']\n",
    "groups.columns = group_names\n",
    "\n",
    "diference = groups['Negatives'] - groups['Positives']\n",
    "groups['Diference'] = diference\n",
    "\n",
    "ratio = groups['Positives'] / groups['Negatives']\n",
    "groups['Ratio P/N'] = ratio\n",
    "\n",
    "groups.tail()"
   ]
  },
  {
   "cell_type": "code",
   "execution_count": 174,
   "id": "ebcfdfc5",
   "metadata": {},
   "outputs": [
    {
     "data": {
      "text/html": [
       "<div>\n",
       "<style scoped>\n",
       "    .dataframe tbody tr th:only-of-type {\n",
       "        vertical-align: middle;\n",
       "    }\n",
       "\n",
       "    .dataframe tbody tr th {\n",
       "        vertical-align: top;\n",
       "    }\n",
       "\n",
       "    .dataframe thead th {\n",
       "        text-align: right;\n",
       "    }\n",
       "</style>\n",
       "<table border=\"1\" class=\"dataframe\">\n",
       "  <thead>\n",
       "    <tr style=\"text-align: right;\">\n",
       "      <th></th>\n",
       "      <th>Positives</th>\n",
       "      <th>Negatives</th>\n",
       "      <th>Diference</th>\n",
       "      <th>Ratio P/N</th>\n",
       "    </tr>\n",
       "    <tr>\n",
       "      <th>Antiviral</th>\n",
       "      <th></th>\n",
       "      <th></th>\n",
       "      <th></th>\n",
       "      <th></th>\n",
       "    </tr>\n",
       "  </thead>\n",
       "  <tbody>\n",
       "    <tr>\n",
       "      <th>0</th>\n",
       "      <td>336315</td>\n",
       "      <td>119161</td>\n",
       "      <td>-217154</td>\n",
       "      <td>2.822358</td>\n",
       "    </tr>\n",
       "    <tr>\n",
       "      <th>1</th>\n",
       "      <td>99630</td>\n",
       "      <td>36855</td>\n",
       "      <td>-62775</td>\n",
       "      <td>2.703297</td>\n",
       "    </tr>\n",
       "    <tr>\n",
       "      <th>Ignored</th>\n",
       "      <td>126811</td>\n",
       "      <td>65663</td>\n",
       "      <td>-61148</td>\n",
       "      <td>1.931240</td>\n",
       "    </tr>\n",
       "  </tbody>\n",
       "</table>\n",
       "</div>"
      ],
      "text/plain": [
       "           Positives  Negatives  Diference  Ratio P/N\n",
       "Antiviral                                            \n",
       "0             336315     119161    -217154   2.822358\n",
       "1              99630      36855     -62775   2.703297\n",
       "Ignored       126811      65663     -61148   1.931240"
      ]
     },
     "execution_count": 174,
     "metadata": {},
     "output_type": "execute_result"
    }
   ],
   "source": [
    "df_negative = df.loc[(df['Evolution'] == 'Death')] # creating a dataset with only the negatives\n",
    "df_positive = df.loc[(df['Evolution'] == 'Cure')] # creating a dataset with only the positives \n",
    "\n",
    "groups_neg = df_negative.groupby('Antiviral').Antiviral.agg(['count'])\n",
    "groups_pos = df_positive.groupby('Antiviral').Antiviral.agg(['count'])\n",
    "\n",
    "groups = pd.concat([groups_pos, groups_neg], axis = 1)\n",
    "group_names = ['Positives', 'Negatives']\n",
    "groups.columns = group_names\n",
    "\n",
    "diference = groups['Negatives'] - groups['Positives']\n",
    "groups['Diference'] = diference\n",
    "\n",
    "ratio = groups['Positives'] / groups['Negatives']\n",
    "groups['Ratio P/N'] = ratio\n",
    "\n",
    "groups.tail()"
   ]
  },
  {
   "cell_type": "markdown",
   "id": "0708f9e8",
   "metadata": {},
   "source": [
    "> The ratio does not vary.  \n",
    "The variable seams not very interesting"
   ]
  },
  {
   "cell_type": "code",
   "execution_count": 175,
   "id": "bac69970",
   "metadata": {},
   "outputs": [],
   "source": [
    "df.drop('Antiviral', axis=1, inplace=True)\n",
    "df.drop('Antiviral_Type', axis=1, inplace=True)"
   ]
  },
  {
   "cell_type": "code",
   "execution_count": 176,
   "id": "076b4110",
   "metadata": {},
   "outputs": [
    {
     "name": "stdout",
     "output_type": "stream",
     "text": [
      "<class 'pandas.core.frame.DataFrame'>\n",
      "Int64Index: 784435 entries, 0 to 824230\n",
      "Data columns (total 46 columns):\n",
      " #   Column                   Non-Null Count   Dtype         \n",
      "---  ------                   --------------   -----         \n",
      " 0   Notification_Date        784435 non-null  datetime64[ns]\n",
      " 1   First_Symptom_Date       784435 non-null  datetime64[ns]\n",
      " 2   State                    784435 non-null  object        \n",
      " 3   Gender                   784435 non-null  object        \n",
      " 4   Pregnancy                784435 non-null  object        \n",
      " 5   Race                     784435 non-null  object        \n",
      " 6   Schooling                784435 non-null  object        \n",
      " 7   Fever                    784435 non-null  object        \n",
      " 8   Cough                    784435 non-null  object        \n",
      " 9   Sore_Throat              784435 non-null  object        \n",
      " 10  Dyspnea                  784435 non-null  object        \n",
      " 11  Respiratory_Discomfort   784435 non-null  object        \n",
      " 12  Saturation               784435 non-null  object        \n",
      " 13  Diarrhea                 784435 non-null  object        \n",
      " 14  Vomiting                 784435 non-null  object        \n",
      " 15  Other_Symptoms           784435 non-null  object        \n",
      " 16  Postpartum               784435 non-null  object        \n",
      " 17  Risk_Factors             784435 non-null  int64         \n",
      " 18  Heart_Disease            784435 non-null  object        \n",
      " 19  Hematology               784435 non-null  object        \n",
      " 20  Down_Syndrome            784435 non-null  object        \n",
      " 21  Liver_Disease            784435 non-null  object        \n",
      " 22  Asthma                   784435 non-null  object        \n",
      " 23  Diabetes                 784435 non-null  object        \n",
      " 24  Neuropathies             784435 non-null  object        \n",
      " 25  Lung_Disease             784435 non-null  object        \n",
      " 26  Immunosuppression        784435 non-null  object        \n",
      " 27  Kidney_Disease           784435 non-null  object        \n",
      " 28  Obesity                  784435 non-null  object        \n",
      " 29  Other_Morbidities        784435 non-null  object        \n",
      " 30  Vaccine                  784435 non-null  object        \n",
      " 31  Admission_Date           743079 non-null  datetime64[ns]\n",
      " 32  ICU                      784435 non-null  object        \n",
      " 33  Intubation_Date          237899 non-null  datetime64[ns]\n",
      " 34  ICU_Discharge_Date       145319 non-null  datetime64[ns]\n",
      " 35  Ventilatory_Support      784435 non-null  object        \n",
      " 36  Sample_Date              784435 non-null  datetime64[ns]\n",
      " 37  PCR_Result               784435 non-null  object        \n",
      " 38  PCR_Date                 784435 non-null  datetime64[ns]\n",
      " 39  Evolution                784435 non-null  object        \n",
      " 40  Evolution_Date           755388 non-null  datetime64[ns]\n",
      " 41  Hospital_Discharge_Date  779313 non-null  datetime64[ns]\n",
      " 42  Age                      784435 non-null  float64       \n",
      " 43  Outbreak_Period          784435 non-null  int64         \n",
      " 44  Outbreak_Count           784435 non-null  int64         \n",
      " 45  TimeDelta_PCR            784435 non-null  float64       \n",
      "dtypes: datetime64[ns](9), float64(2), int64(3), object(32)\n",
      "memory usage: 297.4+ MB\n"
     ]
    }
   ],
   "source": [
    "df.info()"
   ]
  },
  {
   "cell_type": "code",
   "execution_count": null,
   "id": "43f9d546",
   "metadata": {},
   "outputs": [],
   "source": []
  },
  {
   "cell_type": "code",
   "execution_count": null,
   "id": "72b1d74e",
   "metadata": {},
   "outputs": [],
   "source": []
  },
  {
   "cell_type": "markdown",
   "id": "0f5f9c26",
   "metadata": {},
   "source": [
    "# EDA using sweetviz"
   ]
  },
  {
   "cell_type": "code",
   "execution_count": 177,
   "id": "18eb77e6",
   "metadata": {},
   "outputs": [],
   "source": [
    "df.drop('Other_Morbidities', axis=1, inplace=True)\n",
    "df.drop('ICU_Discharge_Date', axis=1, inplace=True)"
   ]
  },
  {
   "cell_type": "code",
   "execution_count": 89,
   "id": "8a3ea10e",
   "metadata": {},
   "outputs": [
    {
     "data": {
      "application/vnd.jupyter.widget-view+json": {
       "model_id": "3f970ab6614a481ebda411cef9b26d69",
       "version_major": 2,
       "version_minor": 0
      },
      "text/plain": [
       "                                             |                                             | [  0%]   00:00 ->…"
      ]
     },
     "metadata": {},
     "output_type": "display_data"
    },
    {
     "name": "stdout",
     "output_type": "stream",
     "text": [
      "Report eda_report.html was generated! NOTEBOOK/COLAB USERS: the web browser MAY not pop up, regardless, the report IS saved in your notebook/colab files.\n"
     ]
    },
    {
     "ename": "NameError",
     "evalue": "name 'report_comp' is not defined",
     "output_type": "error",
     "traceback": [
      "\u001b[1;31m---------------------------------------------------------------------------\u001b[0m",
      "\u001b[1;31mNameError\u001b[0m                                 Traceback (most recent call last)",
      "\u001b[1;32m~\\AppData\\Local\\Temp/ipykernel_24052/1686109077.py\u001b[0m in \u001b[0;36m<module>\u001b[1;34m\u001b[0m\n\u001b[0;32m      7\u001b[0m \u001b[0mreport\u001b[0m\u001b[1;33m.\u001b[0m\u001b[0mshow_html\u001b[0m\u001b[1;33m(\u001b[0m\u001b[1;34m'eda_report.html'\u001b[0m\u001b[1;33m)\u001b[0m\u001b[1;33m\u001b[0m\u001b[1;33m\u001b[0m\u001b[0m\n\u001b[0;32m      8\u001b[0m \u001b[1;31m#report_comp = sv.compare(data1, data2)\u001b[0m\u001b[1;33m\u001b[0m\u001b[1;33m\u001b[0m\u001b[0m\n\u001b[1;32m----> 9\u001b[1;33m \u001b[0mreport_comp\u001b[0m\u001b[1;33m.\u001b[0m\u001b[0mshow_html\u001b[0m\u001b[1;33m(\u001b[0m\u001b[1;33m)\u001b[0m\u001b[1;33m\u001b[0m\u001b[1;33m\u001b[0m\u001b[0m\n\u001b[0m",
      "\u001b[1;31mNameError\u001b[0m: name 'report_comp' is not defined"
     ]
    }
   ],
   "source": [
    "#!pip install ipywidgets\n",
    "#!pip install sweetviz\n",
    "#jupyter nbextension enable --py widgetsnbextension\n",
    "\n",
    "import sweetviz as sv\n",
    "report = sv.analyze(df)\n",
    "report.show_html('eda_report.html')\n",
    "#report_comp = sv.compare(data1, data2)\n",
    "report_comp.show_html()"
   ]
  },
  {
   "cell_type": "code",
   "execution_count": null,
   "id": "59891e62",
   "metadata": {},
   "outputs": [],
   "source": []
  },
  {
   "cell_type": "code",
   "execution_count": 178,
   "id": "ec46bce6",
   "metadata": {},
   "outputs": [],
   "source": [
    "df.to_csv(r'DataSUS_For_ML.csv', sep = ';', encoding='UTF-8', index=False)"
   ]
  },
  {
   "cell_type": "code",
   "execution_count": null,
   "id": "051decb3",
   "metadata": {},
   "outputs": [],
   "source": [
    "df"
   ]
  },
  {
   "cell_type": "code",
   "execution_count": null,
   "id": "9efc966c",
   "metadata": {},
   "outputs": [],
   "source": []
  },
  {
   "cell_type": "code",
   "execution_count": null,
   "id": "d7b21f24",
   "metadata": {},
   "outputs": [],
   "source": []
  }
 ],
 "metadata": {
  "kernelspec": {
   "display_name": "Python 3 (ipykernel)",
   "language": "python",
   "name": "python3"
  },
  "language_info": {
   "codemirror_mode": {
    "name": "ipython",
    "version": 3
   },
   "file_extension": ".py",
   "mimetype": "text/x-python",
   "name": "python",
   "nbconvert_exporter": "python",
   "pygments_lexer": "ipython3",
   "version": "3.9.7"
  }
 },
 "nbformat": 4,
 "nbformat_minor": 5
}
